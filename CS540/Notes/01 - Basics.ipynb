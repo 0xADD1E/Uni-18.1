{
 "cells": [
  {
   "cell_type": "markdown",
   "metadata": {},
   "source": [
    "# Hardware Basics\n",
    "- CPU\n",
    "- Disks\n",
    "- Periphrials\n",
    "- Device Ctlrs\n",
    "    - SATA\n",
    "    - USB\n",
    "- Main Memory\n",
    "- System Bus"
   ]
  },
  {
   "cell_type": "markdown",
   "metadata": {},
   "source": [
    "## Device Controllers\n",
    "Specific hardware that does IO\n",
    "\n",
    "- Has a local buffer\n",
    "- Managed by software \n",
    "- Input moves data from device to buffer\n",
    "- Output moves data from the buffer to the device\n",
    "- CPU moves data between buffer and SysMem\n",
    "- Once the ctlr finishes work, sends an interput to the CPU"
   ]
  },
  {
   "cell_type": "markdown",
   "metadata": {},
   "source": [
    "## Interrupts\n",
    "Happen within the CPU. Caused by...\n",
    "- Errors in execution (div by 0)\n",
    "- Requested service from the system\n",
    "- SysCalls\n",
    "- SMM\n",
    "- etc"
   ]
  },
  {
   "cell_type": "markdown",
   "metadata": {},
   "source": [
    "## Modes\n",
    "For the purposes of this course we're ignoring SMM, Hypervisor, ring 1 and ring 2\n",
    "\n",
    "- Kernel mode (ring 0)\n",
    "- User mode (ring 3)\n",
    "\n",
    "Ring 3 has extra protections, ring 0 has access to privliged operations (IE: direct I/Os)"
   ]
  },
  {
   "cell_type": "markdown",
   "metadata": {},
   "source": [
    "# Operating System Basics\n",
    "- Kernel: Core part of the OS, always in memory\n",
    "- Userspace Programs: Sit on the disk until needed"
   ]
  },
  {
   "cell_type": "markdown",
   "metadata": {},
   "source": [
    "# Interupt Servicing\n",
    "1. Interupt is recieved by the CPU\n",
    "1. Suspend execution of usermode programs\n",
    "1. Push registers\n",
    "1. Delegate interupt to the kernel if applicable (IE: SMM interupts aren't)\n",
    "1. Kernel determines the kind of interupt, follows the entry in the interrupt service vector (loading code from disk if needed)\n",
    "1. Pop registers"
   ]
  },
  {
   "cell_type": "markdown",
   "metadata": {},
   "source": [
    "# Storage Tiering\n",
    "| Tier          | Capacity | Access Time     | Volitile? |\n",
    "|:--------------|:---------|:----------------|:----------|\n",
    "| CPU Regs      | ~1KB     | 1 Cycle (~1ns)  | Yes       |\n",
    "| CPU L1 Cache  | ~256KB   | 5ns             | Yes       |\n",
    "| CPU L2 Cache  | ~1MB     | 7ns             | Yes       |\n",
    "| CPU L3 Cache  | ~8MB     | 100ns           | Yes       |\n",
    "| System Memory | ~16GB    | ~3ms            | Yes       |\n",
    "| Disks         | ~4TB     | ~10ms           | No        |\n",
    "| Tapes         | Many PB  | Minutes at best | No        |\n",
    "\n",
    "Memory on disks is divided into blocks, which are either 512B and 4K depending on the disk\n",
    "\n",
    "- Caching: Moving data from a slower meduim to a faster one"
   ]
  },
  {
   "cell_type": "code",
   "execution_count": null,
   "metadata": {
    "collapsed": true
   },
   "outputs": [],
   "source": []
  }
 ],
 "metadata": {
  "kernelspec": {
   "display_name": "IArm",
   "language": "ARM",
   "name": "iarm"
  },
  "language_info": {
   "file_extension": ".s",
   "mimetype": "text/x-asm",
   "name": "ARM Coretex M0+ Thumb Assembly"
  }
 },
 "nbformat": 4,
 "nbformat_minor": 2
}
