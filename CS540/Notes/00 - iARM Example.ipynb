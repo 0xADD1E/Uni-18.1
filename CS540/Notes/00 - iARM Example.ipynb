{
 "cells": [
  {
   "cell_type": "code",
   "execution_count": 1,
   "metadata": {
    "collapsed": true
   },
   "outputs": [],
   "source": [
    "            B main ; Branch to the main code. This is to avoid executing the subroutine\n",
    "\n",
    "; factorial\n",
    "; Compute the factorial of the value in R0, storing the result in R1\n",
    "; Uses R2, but saves state\n",
    "factorial\n",
    "            PUSH {LR, R2}   ; Save the return address and the value of R2\n",
    "            MOVS R1, #1     ; Init the result to 1 (0! and 1! = 1)\n",
    "            MOVS R2, #1     ; Init the coutner to 1\n",
    "f_compare   CMP R0, R2      ; R0 - R2, set flags\n",
    "            BEQ f_cleanup   ; Are R0 and R2 equal?\n",
    "            ADDS R2, R2, #1 ; Add one to the counter\n",
    "            MULS R1, R2, R1 ; Multiply the current result with the coutner\n",
    "            B f_compare     ; Check to see if we are done\n",
    "f_cleanup   POP {PC, R2}    ; Restore R2, then jump to the address\n",
    "\n",
    "main\n",
    "            MOVS R0, #5\n",
    "            BL factorial"
   ]
  },
  {
   "cell_type": "code",
   "execution_count": 2,
   "metadata": {},
   "outputs": [
    {
     "name": "stdout",
     "output_type": "stream",
     "text": [
      "R0: 5\n",
      "R1: 120\n"
     ]
    }
   ],
   "source": [
    "%run\n",
    "%reg R0-R1"
   ]
  },
  {
   "cell_type": "code",
   "execution_count": null,
   "metadata": {
    "collapsed": true
   },
   "outputs": [],
   "source": []
  }
 ],
 "metadata": {
  "kernelspec": {
   "display_name": "IArm",
   "language": "ARM",
   "name": "iarm"
  },
  "language_info": {
   "file_extension": ".s",
   "mimetype": "text/x-asm",
   "name": "ARM Coretex M0+ Thumb Assembly"
  }
 },
 "nbformat": 4,
 "nbformat_minor": 2
}
