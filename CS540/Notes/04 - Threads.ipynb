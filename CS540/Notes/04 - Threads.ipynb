{
 "cells": [
  {
   "cell_type": "markdown",
   "metadata": {},
   "source": [
    "# Threads\n",
    "Parallel execution: exec different tasks on different cores\n",
    "\n",
    "Concurrent exec: Interleaved exec on the same core\n",
    "\n",
    "## Examples of multithreaded apps\n",
    "- Web servers\n",
    "- web browsers\n",
    "- Anything that does async io or processing\n",
    "\n",
    "## Fun facts about threads\n",
    "- They run in parallel\n",
    "- Allows async processing for long running ops\n",
    "- In turn, keeps the UI thread responsive\n",
    "- No explicit IPC required for communication\n",
    "- Cheaper than processes\n",
    "- Shared address space (except for stack)\n",
    "\n",
    "## Kernel/user level threads\n",
    "Only kernel level threads actually get run, so user level must be mapped to a kernel level thread to run\n",
    "\n",
    "### Many-to-one\n",
    "Only one kernel thread, user threads are interleaved\n",
    "### One-to-one\n",
    "Each user-thread gets a kernel thread (unix model)\n",
    "### Many to many\n",
    "Thread pool of kernel threads, user level threads get assigned to them\n",
    "## Libraries\n",
    "- POSIX: pthreads\n",
    "- WINDOWS: threads"
   ]
  },
  {
   "cell_type": "code",
   "execution_count": null,
   "metadata": {
    "collapsed": true
   },
   "outputs": [],
   "source": []
  }
 ],
 "metadata": {
  "kernelspec": {
   "display_name": "Python 3",
   "language": "python",
   "name": "python3"
  },
  "language_info": {
   "codemirror_mode": {
    "name": "ipython",
    "version": 3
   },
   "file_extension": ".py",
   "mimetype": "text/x-python",
   "name": "python",
   "nbconvert_exporter": "python",
   "pygments_lexer": "ipython3",
   "version": "3.6.3"
  }
 },
 "nbformat": 4,
 "nbformat_minor": 2
}
