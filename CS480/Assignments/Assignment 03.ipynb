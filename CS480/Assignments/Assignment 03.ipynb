{
 "cells": [
  {
   "cell_type": "markdown",
   "metadata": {},
   "source": [
    "# Homework 3 - Addie Morrison"
   ]
  },
  {
   "cell_type": "markdown",
   "metadata": {},
   "source": [
    "## 2.1\n",
    "RiouxSVN"
   ]
  },
  {
   "cell_type": "markdown",
   "metadata": {},
   "source": [
    "## 2.2\n",
    "Create repo through GUI\n",
    "\n",
    "Web is `https://riouxsvn.com/repository/?name=q688r999-cs580`\n",
    "\n",
    "Remote is `https://svn.riouxsvn.com/q688r999-cs580`"
   ]
  },
  {
   "cell_type": "markdown",
   "metadata": {},
   "source": [
    "## 2.3"
   ]
  },
  {
   "cell_type": "code",
   "execution_count": 1,
   "metadata": {},
   "outputs": [
    {
     "name": "stdout",
     "output_type": "stream",
     "text": [
      "Checked out revision 0.\n"
     ]
    }
   ],
   "source": [
    "svn checkout \\\n",
    "    --username akmorrison \\\n",
    "    --password d9sUIqZwV5HHHPt3r\\$3pKm4Z\\@zUvWKPo \\\n",
    "    https://svn.riouxsvn.com/q688r999-cs580 \\\n",
    "    work-copy-1"
   ]
  },
  {
   "cell_type": "markdown",
   "metadata": {},
   "source": [
    "## 2.4"
   ]
  },
  {
   "cell_type": "code",
   "execution_count": 2,
   "metadata": {},
   "outputs": [],
   "source": [
    "cd work-copy-1"
   ]
  },
  {
   "cell_type": "code",
   "execution_count": 3,
   "metadata": {},
   "outputs": [],
   "source": [
    "cat <<EOF > primes.hs\n",
    "primes :: [Int]\n",
    "primes = sieve [2..]\n",
    "\n",
    "sieve :: [Int] -> [Int]\n",
    "sieve (p:xs) = p : sieve [x | x <- xs, x \\`mod\\` p /= 0]\n",
    "EOF"
   ]
  },
  {
   "cell_type": "markdown",
   "metadata": {},
   "source": [
    "## 2.5"
   ]
  },
  {
   "cell_type": "code",
   "execution_count": 4,
   "metadata": {},
   "outputs": [
    {
     "name": "stdout",
     "output_type": "stream",
     "text": [
      "A         primes.hs\n"
     ]
    }
   ],
   "source": [
    "svn add primes.hs"
   ]
  },
  {
   "cell_type": "code",
   "execution_count": 5,
   "metadata": {},
   "outputs": [
    {
     "name": "stdout",
     "output_type": "stream",
     "text": [
      "Adding         primes.hs\n",
      "Transmitting file data .done\n",
      "Committing transaction...\n",
      "Committed revision 1.\n"
     ]
    }
   ],
   "source": [
    "svn commit -m \"Added primes program\""
   ]
  },
  {
   "cell_type": "code",
   "execution_count": 6,
   "metadata": {},
   "outputs": [
    {
     "name": "stdout",
     "output_type": "stream",
     "text": [
      "Updating '.':\n",
      "At revision 1.\n"
     ]
    }
   ],
   "source": [
    "svn update"
   ]
  },
  {
   "cell_type": "markdown",
   "metadata": {},
   "source": [
    "## 2.6"
   ]
  },
  {
   "cell_type": "code",
   "execution_count": 7,
   "metadata": {},
   "outputs": [],
   "source": [
    "cd .."
   ]
  },
  {
   "cell_type": "code",
   "execution_count": 8,
   "metadata": {},
   "outputs": [
    {
     "name": "stdout",
     "output_type": "stream",
     "text": [
      "A    work-copy-2/primes.hs\n",
      "Checked out revision 1.\n"
     ]
    }
   ],
   "source": [
    "svn checkout \\\n",
    "    --username akmorrison \\\n",
    "    --password d9sUIqZwV5HHHPt3r\\$3pKm4Z\\@zUvWKPo \\\n",
    "    https://svn.riouxsvn.com/q688r999-cs580 \\\n",
    "    work-copy-2"
   ]
  },
  {
   "cell_type": "markdown",
   "metadata": {},
   "source": [
    "## 2.7\n",
    "Changing `primes` to `primeNumbers` in `copy 1` and appending a single line to `copy 2` to create an auto-mergable change, then resolving it"
   ]
  },
  {
   "cell_type": "code",
   "execution_count": 9,
   "metadata": {},
   "outputs": [],
   "source": [
    "cd work-copy-1"
   ]
  },
  {
   "cell_type": "code",
   "execution_count": 10,
   "metadata": {},
   "outputs": [],
   "source": [
    "sed -i '' 's/primes/primeNumbers/g' primes.hs"
   ]
  },
  {
   "cell_type": "code",
   "execution_count": 11,
   "metadata": {},
   "outputs": [
    {
     "name": "stdout",
     "output_type": "stream",
     "text": [
      "Sending        primes.hs\n",
      "Transmitting file data .done\n",
      "Committing transaction...\n",
      "Committed revision 2.\n"
     ]
    }
   ],
   "source": [
    "svn commit -m \"Refactored some functions\""
   ]
  },
  {
   "cell_type": "code",
   "execution_count": 12,
   "metadata": {},
   "outputs": [
    {
     "name": "stdout",
     "output_type": "stream",
     "text": [
      "Updating '.':\n",
      "At revision 2.\n"
     ]
    }
   ],
   "source": [
    "svn update"
   ]
  },
  {
   "cell_type": "code",
   "execution_count": 13,
   "metadata": {},
   "outputs": [],
   "source": [
    "cd .."
   ]
  },
  {
   "cell_type": "markdown",
   "metadata": {},
   "source": [
    "---"
   ]
  },
  {
   "cell_type": "code",
   "execution_count": 14,
   "metadata": {},
   "outputs": [],
   "source": [
    "cd work-copy-2"
   ]
  },
  {
   "cell_type": "code",
   "execution_count": 15,
   "metadata": {},
   "outputs": [],
   "source": [
    "echo \"-- This is a comment\" >> primes.hs"
   ]
  },
  {
   "cell_type": "code",
   "execution_count": 16,
   "metadata": {},
   "outputs": [
    {
     "name": "stdout",
     "output_type": "stream",
     "text": [
      "Sending        primes.hs\n",
      "Transmitting file data .svn: E155011: Commit failed (details follow):\n",
      "svn: E155011: File '/Users/kate/Documents/Uni/CS480/Assignments/work-copy-2/primes.hs' is out of date\n",
      "svn: E170004: File '/primes.hs' is out of date\n"
     ]
    },
    {
     "ename": "",
     "evalue": "1",
     "output_type": "error",
     "traceback": []
    }
   ],
   "source": [
    "svn commit -m \"Added documentation to primes\""
   ]
  },
  {
   "cell_type": "code",
   "execution_count": 17,
   "metadata": {},
   "outputs": [
    {
     "name": "stdout",
     "output_type": "stream",
     "text": [
      "Updating '.':\n",
      "G    primes.hs\n",
      "Updated to revision 2.\n"
     ]
    }
   ],
   "source": [
    "svn update"
   ]
  },
  {
   "cell_type": "code",
   "execution_count": 18,
   "metadata": {},
   "outputs": [
    {
     "name": "stdout",
     "output_type": "stream",
     "text": [
      "Sending        primes.hs\n",
      "Transmitting file data .done\n",
      "Committing transaction...\n",
      "Committed revision 3.\n"
     ]
    }
   ],
   "source": [
    "svn commit -m \"Added documentation to primes\""
   ]
  },
  {
   "cell_type": "code",
   "execution_count": 19,
   "metadata": {},
   "outputs": [
    {
     "name": "stdout",
     "output_type": "stream",
     "text": [
      "Updating '.':\n",
      "At revision 3.\n"
     ]
    }
   ],
   "source": [
    "svn update"
   ]
  },
  {
   "cell_type": "code",
   "execution_count": 20,
   "metadata": {},
   "outputs": [],
   "source": [
    "cd .."
   ]
  },
  {
   "cell_type": "markdown",
   "metadata": {},
   "source": [
    "---"
   ]
  },
  {
   "cell_type": "code",
   "execution_count": 21,
   "metadata": {},
   "outputs": [],
   "source": [
    "cd work-copy-1"
   ]
  },
  {
   "cell_type": "code",
   "execution_count": 22,
   "metadata": {},
   "outputs": [
    {
     "name": "stdout",
     "output_type": "stream",
     "text": [
      "Updating '.':\n",
      "U    primes.hs\n",
      "Updated to revision 3.\n"
     ]
    }
   ],
   "source": [
    "svn update"
   ]
  },
  {
   "cell_type": "code",
   "execution_count": 23,
   "metadata": {},
   "outputs": [],
   "source": [
    "cd .."
   ]
  },
  {
   "cell_type": "markdown",
   "metadata": {},
   "source": [
    "## 2.8"
   ]
  },
  {
   "cell_type": "code",
   "execution_count": 24,
   "metadata": {},
   "outputs": [],
   "source": [
    "cd work-copy-1"
   ]
  },
  {
   "cell_type": "code",
   "execution_count": 25,
   "metadata": {},
   "outputs": [],
   "source": [
    "echo \"--This is a comment\" >> conflicting.hs"
   ]
  },
  {
   "cell_type": "code",
   "execution_count": 26,
   "metadata": {},
   "outputs": [
    {
     "name": "stdout",
     "output_type": "stream",
     "text": [
      "A         conflicting.hs\n"
     ]
    }
   ],
   "source": [
    "svn add conflicting.hs"
   ]
  },
  {
   "cell_type": "code",
   "execution_count": 27,
   "metadata": {},
   "outputs": [
    {
     "name": "stdout",
     "output_type": "stream",
     "text": [
      "Adding         conflicting.hs\n",
      "Transmitting file data .done\n",
      "Committing transaction...\n",
      "Committed revision 4.\n"
     ]
    }
   ],
   "source": [
    "svn commit -m \"Added a conflicting file\""
   ]
  },
  {
   "cell_type": "code",
   "execution_count": 28,
   "metadata": {},
   "outputs": [
    {
     "name": "stdout",
     "output_type": "stream",
     "text": [
      "Updating '.':\n",
      "At revision 4.\n"
     ]
    }
   ],
   "source": [
    "svn update"
   ]
  },
  {
   "cell_type": "code",
   "execution_count": 29,
   "metadata": {},
   "outputs": [],
   "source": [
    "cd .."
   ]
  },
  {
   "cell_type": "markdown",
   "metadata": {},
   "source": [
    "---"
   ]
  },
  {
   "cell_type": "code",
   "execution_count": 30,
   "metadata": {},
   "outputs": [],
   "source": [
    "cd work-copy-2"
   ]
  },
  {
   "cell_type": "code",
   "execution_count": 31,
   "metadata": {},
   "outputs": [],
   "source": [
    "echo \"--This is a conflicting comment\" >> conflicting.hs"
   ]
  },
  {
   "cell_type": "code",
   "execution_count": 32,
   "metadata": {},
   "outputs": [
    {
     "name": "stdout",
     "output_type": "stream",
     "text": [
      "A         conflicting.hs\n"
     ]
    }
   ],
   "source": [
    "svn add conflicting.hs"
   ]
  },
  {
   "cell_type": "code",
   "execution_count": 33,
   "metadata": {},
   "outputs": [
    {
     "name": "stdout",
     "output_type": "stream",
     "text": [
      "Adding         conflicting.hs\n",
      "svn: E155011: Commit failed (details follow):\n",
      "svn: E155011: File '/Users/kate/Documents/Uni/CS480/Assignments/work-copy-2/conflicting.hs' is out of date\n",
      "svn: E160020: File 'conflicting.hs' already exists\n"
     ]
    },
    {
     "ename": "",
     "evalue": "1",
     "output_type": "error",
     "traceback": []
    }
   ],
   "source": [
    "svn commit -m \"Tried to create a merge conflict\""
   ]
  },
  {
   "cell_type": "markdown",
   "metadata": {},
   "source": [
    "## 2.9"
   ]
  },
  {
   "cell_type": "code",
   "execution_count": 34,
   "metadata": {},
   "outputs": [
    {
     "name": "stdout",
     "output_type": "stream",
     "text": [
      "Updating '.':\n",
      "C    conflicting.hs\n",
      "Updated to revision 4.\n",
      "Summary of conflicts:\n",
      "  Text conflicts: 1\n"
     ]
    }
   ],
   "source": [
    "svn update --accept p"
   ]
  },
  {
   "cell_type": "code",
   "execution_count": 35,
   "metadata": {},
   "outputs": [
    {
     "name": "stdout",
     "output_type": "stream",
     "text": [
      "Resolved conflicted state of 'conflicting.hs'\n"
     ]
    }
   ],
   "source": [
    "svn resolve conflicting.hs --accept mc"
   ]
  },
  {
   "cell_type": "code",
   "execution_count": 36,
   "metadata": {},
   "outputs": [
    {
     "name": "stdout",
     "output_type": "stream",
     "text": [
      "Sending        conflicting.hs\n",
      "Transmitting file data .done\n",
      "Committing transaction...\n",
      "Committed revision 5.\n"
     ]
    }
   ],
   "source": [
    "svn commit -m \"Resolved the merge conflict\""
   ]
  },
  {
   "cell_type": "code",
   "execution_count": 37,
   "metadata": {},
   "outputs": [
    {
     "name": "stdout",
     "output_type": "stream",
     "text": [
      "Updating '.':\n",
      "At revision 5.\n"
     ]
    }
   ],
   "source": [
    "svn update"
   ]
  },
  {
   "cell_type": "code",
   "execution_count": 38,
   "metadata": {},
   "outputs": [],
   "source": [
    "cd .."
   ]
  },
  {
   "cell_type": "markdown",
   "metadata": {},
   "source": [
    "---"
   ]
  },
  {
   "cell_type": "code",
   "execution_count": 39,
   "metadata": {},
   "outputs": [],
   "source": [
    "cd work-copy-1"
   ]
  },
  {
   "cell_type": "code",
   "execution_count": 40,
   "metadata": {},
   "outputs": [
    {
     "name": "stdout",
     "output_type": "stream",
     "text": [
      "Updating '.':\n",
      "U    conflicting.hs\n",
      "Updated to revision 5.\n"
     ]
    }
   ],
   "source": [
    "svn update"
   ]
  },
  {
   "cell_type": "code",
   "execution_count": 41,
   "metadata": {},
   "outputs": [],
   "source": [
    "cd .."
   ]
  },
  {
   "cell_type": "markdown",
   "metadata": {},
   "source": [
    "## 2.10"
   ]
  },
  {
   "cell_type": "code",
   "execution_count": 42,
   "metadata": {},
   "outputs": [],
   "source": [
    "cd work-copy-1"
   ]
  },
  {
   "cell_type": "code",
   "execution_count": 43,
   "metadata": {},
   "outputs": [
    {
     "name": "stdout",
     "output_type": "stream",
     "text": [
      "Index: primes.hs\n",
      "===================================================================\n",
      "--- primes.hs\t(revision 1)\n",
      "+++ primes.hs\t(revision 5)\n",
      "@@ -1,5 +1,6 @@\n",
      "-primes :: [Int]\n",
      "-primes = sieve [2..]\n",
      "+primeNumbers :: [Int]\n",
      "+primeNumbers = sieve [2..]\n",
      " \n",
      " sieve :: [Int] -> [Int]\n",
      " sieve (p:xs) = p : sieve [x | x <- xs, x `mod` p /= 0]\n",
      "+-- This is a comment\n"
     ]
    }
   ],
   "source": [
    "svn diff -r 1:5 primes.hs"
   ]
  },
  {
   "cell_type": "code",
   "execution_count": 44,
   "metadata": {},
   "outputs": [
    {
     "name": "stdout",
     "output_type": "stream",
     "text": [
      "Index: conflicting.hs\n",
      "===================================================================\n",
      "--- conflicting.hs\t(nonexistent)\n",
      "+++ conflicting.hs\t(revision 5)\n",
      "@@ -0,0 +1 @@\n",
      "+--This is a conflicting comment\n"
     ]
    }
   ],
   "source": [
    "svn diff -r 1:5 conflicting.hs"
   ]
  },
  {
   "cell_type": "markdown",
   "metadata": {},
   "source": [
    "## 2.11"
   ]
  },
  {
   "cell_type": "code",
   "execution_count": 45,
   "metadata": {},
   "outputs": [
    {
     "name": "stdout",
     "output_type": "stream",
     "text": [
      "------------------------------------------------------------------------\n",
      "r5 | akmorrison | 2018-03-05 12:18:26 -0600 (Mon, 05 Mar 2018) | 1 line\n",
      "\n",
      "Resolved the merge conflict\n",
      "------------------------------------------------------------------------\n",
      "r4 | akmorrison | 2018-03-05 12:18:13 -0600 (Mon, 05 Mar 2018) | 1 line\n",
      "\n",
      "Added a conflicting file\n",
      "------------------------------------------------------------------------\n",
      "r3 | akmorrison | 2018-03-05 12:18:00 -0600 (Mon, 05 Mar 2018) | 1 line\n",
      "\n",
      "Added documentation to primes\n",
      "------------------------------------------------------------------------\n",
      "r2 | akmorrison | 2018-03-05 12:17:47 -0600 (Mon, 05 Mar 2018) | 1 line\n",
      "\n",
      "Refactored some functions\n",
      "------------------------------------------------------------------------\n",
      "r1 | akmorrison | 2018-03-05 12:17:39 -0600 (Mon, 05 Mar 2018) | 1 line\n",
      "\n",
      "Added primes program\n",
      "------------------------------------------------------------------------\n"
     ]
    }
   ],
   "source": [
    "svn log"
   ]
  }
 ],
 "metadata": {
  "kernelspec": {
   "display_name": "Bash",
   "language": "bash",
   "name": "bash"
  },
  "language_info": {
   "codemirror_mode": "shell",
   "file_extension": ".sh",
   "mimetype": "text/x-sh",
   "name": "bash"
  }
 },
 "nbformat": 4,
 "nbformat_minor": 2
}
