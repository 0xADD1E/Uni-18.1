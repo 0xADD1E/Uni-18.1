{
 "cells": [
  {
   "cell_type": "markdown",
   "metadata": {},
   "source": [
    "# Recursive and FastForward Merges\n",
    "\n",
    "`git lg` is an alias for `git log --graph --abbrev-commit --decorate --format=format:'%C(bold blue)%h%C(reset) - %C(bold green)(%ar)%C(reset) %C(white)%s%C(reset) %C(dim white)- %an%C(reset)%C(bold yellow)%d%C(reset)' --all`\n",
    "\n",
    "It's a nice way of keeping track of multi-branch projects on the command line"
   ]
  },
  {
   "cell_type": "markdown",
   "metadata": {},
   "source": [
    "## Fast Forward Merges\n",
    "Fast forwarding is simply a feature of git where if the source branch contains only commits which are decendents of the tip of the destination branch, it will simply be applied by moving the head pointer to the tip of that branch"
   ]
  },
  {
   "cell_type": "code",
   "execution_count": 1,
   "metadata": {},
   "outputs": [
    {
     "name": "stdout",
     "output_type": "stream",
     "text": [
      "Initialized empty Git repository in /Users/kate/Documents/Uni/CS480/Assignments/FastForwardMerge/.git/\n"
     ]
    }
   ],
   "source": [
    "mkdir FastForwardMerge\n",
    "cd FastForwardMerge\n",
    "git init"
   ]
  },
  {
   "cell_type": "code",
   "execution_count": 2,
   "metadata": {},
   "outputs": [
    {
     "name": "stdout",
     "output_type": "stream",
     "text": [
      "[master (root-commit) 8af5a57] Initial Commit\n",
      " 1 file changed, 3 insertions(+)\n",
      " create mode 100644 FF.txt\n"
     ]
    }
   ],
   "source": [
    "cat << EOF > FF.txt\n",
    "Pumpernickel\n",
    "Plethora\n",
    "Idiot\n",
    "EOF\n",
    "\n",
    "git add .\n",
    "git commit -m \"Initial Commit\""
   ]
  },
  {
   "cell_type": "code",
   "execution_count": 3,
   "metadata": {},
   "outputs": [
    {
     "name": "stdout",
     "output_type": "stream",
     "text": [
      "Switched to branch 'FF_Merge'\n"
     ]
    }
   ],
   "source": [
    "git branch FF_Merge\n",
    "git checkout FF_Merge"
   ]
  },
  {
   "cell_type": "code",
   "execution_count": 4,
   "metadata": {},
   "outputs": [
    {
     "name": "stdout",
     "output_type": "stream",
     "text": [
      "[FF_Merge 4fb4574] Changed a word\n",
      " 1 file changed, 1 insertion(+), 1 deletion(-)\n"
     ]
    }
   ],
   "source": [
    "cat << EOF > FF.txt\n",
    "Pumpernickel\n",
    "Xanthan\n",
    "Idiot\n",
    "EOF\n",
    "\n",
    "git add .\n",
    "git commit -m \"Changed a word\""
   ]
  },
  {
   "cell_type": "code",
   "execution_count": 5,
   "metadata": {},
   "outputs": [
    {
     "name": "stdout",
     "output_type": "stream",
     "text": [
      "[FF_Merge f612073] Changed another word\n",
      " 1 file changed, 1 insertion(+), 1 deletion(-)\n"
     ]
    }
   ],
   "source": [
    "cat << EOF > FF.txt\n",
    "Tabby\n",
    "Xanthan\n",
    "Idiot\n",
    "EOF\n",
    "\n",
    "git add .\n",
    "git commit -m \"Changed another word\""
   ]
  },
  {
   "cell_type": "code",
   "execution_count": 6,
   "metadata": {},
   "outputs": [
    {
     "name": "stdout",
     "output_type": "stream",
     "text": [
      "Switched to branch 'master'\n"
     ]
    }
   ],
   "source": [
    "git checkout master"
   ]
  },
  {
   "cell_type": "code",
   "execution_count": 7,
   "metadata": {},
   "outputs": [
    {
     "name": "stdout",
     "output_type": "stream",
     "text": [
      "* \u001b[1;34mf612073\u001b[m - \u001b[1;32m(0 seconds ago)\u001b[m \u001b[37mChanged another word\u001b[m \u001b[2;37m- Addie Morrison\u001b[m\u001b[1;33m (FF_Merge)\u001b[m\n",
      "* \u001b[1;34m4fb4574\u001b[m - \u001b[1;32m(1 second ago)\u001b[m \u001b[37mChanged a word\u001b[m \u001b[2;37m- Addie Morrison\u001b[m\u001b[1;33m\u001b[m\n",
      "* \u001b[1;34m8af5a57\u001b[m - \u001b[1;32m(2 seconds ago)\u001b[m \u001b[37mInitial Commit\u001b[m \u001b[2;37m- Addie Morrison\u001b[m\u001b[1;33m (HEAD -> master)\u001b[m"
     ]
    }
   ],
   "source": [
    "git lg"
   ]
  },
  {
   "cell_type": "code",
   "execution_count": 8,
   "metadata": {},
   "outputs": [
    {
     "name": "stdout",
     "output_type": "stream",
     "text": [
      "Updating 8af5a57..f612073\n",
      "Fast-forward\n",
      " FF.txt | 4 \u001b[32m++\u001b[m\u001b[31m--\u001b[m\n",
      " 1 file changed, 2 insertions(+), 2 deletions(-)\n"
     ]
    }
   ],
   "source": [
    "git merge FF_Merge"
   ]
  },
  {
   "cell_type": "code",
   "execution_count": 9,
   "metadata": {},
   "outputs": [
    {
     "name": "stdout",
     "output_type": "stream",
     "text": [
      "* \u001b[1;34mf612073\u001b[m - \u001b[1;32m(0 seconds ago)\u001b[m \u001b[37mChanged another word\u001b[m \u001b[2;37m- Addie Morrison\u001b[m\u001b[1;33m (HEAD -> master, FF_Merge)\u001b[m\n",
      "* \u001b[1;34m4fb4574\u001b[m - \u001b[1;32m(1 second ago)\u001b[m \u001b[37mChanged a word\u001b[m \u001b[2;37m- Addie Morrison\u001b[m\u001b[1;33m\u001b[m\n",
      "* \u001b[1;34m8af5a57\u001b[m - \u001b[1;32m(2 seconds ago)\u001b[m \u001b[37mInitial Commit\u001b[m \u001b[2;37m- Addie Morrison\u001b[m\u001b[1;33m\u001b[m"
     ]
    }
   ],
   "source": [
    "git lg"
   ]
  },
  {
   "cell_type": "markdown",
   "metadata": {},
   "source": [
    "Alternatively, we can specify no-ff\n",
    "\n",
    "This keeps the repository history (subjectively) cleaner by showing what happened where"
   ]
  },
  {
   "cell_type": "code",
   "execution_count": 10,
   "metadata": {},
   "outputs": [
    {
     "name": "stdout",
     "output_type": "stream",
     "text": [
      "HEAD is now at 8af5a57 Initial Commit\n"
     ]
    }
   ],
   "source": [
    "git reset --hard HEAD~2"
   ]
  },
  {
   "cell_type": "code",
   "execution_count": 11,
   "metadata": {},
   "outputs": [
    {
     "name": "stdout",
     "output_type": "stream",
     "text": [
      "* \u001b[1;34mf612073\u001b[m - \u001b[1;32m(1 second ago)\u001b[m \u001b[37mChanged another word\u001b[m \u001b[2;37m- Addie Morrison\u001b[m\u001b[1;33m (FF_Merge)\u001b[m\n",
      "* \u001b[1;34m4fb4574\u001b[m - \u001b[1;32m(2 seconds ago)\u001b[m \u001b[37mChanged a word\u001b[m \u001b[2;37m- Addie Morrison\u001b[m\u001b[1;33m\u001b[m\n",
      "* \u001b[1;34m8af5a57\u001b[m - \u001b[1;32m(3 seconds ago)\u001b[m \u001b[37mInitial Commit\u001b[m \u001b[2;37m- Addie Morrison\u001b[m\u001b[1;33m (HEAD -> master)\u001b[m"
     ]
    }
   ],
   "source": [
    "git lg"
   ]
  },
  {
   "cell_type": "code",
   "execution_count": 12,
   "metadata": {},
   "outputs": [
    {
     "name": "stdout",
     "output_type": "stream",
     "text": [
      "Merge made by the 'recursive' strategy.\n",
      " FF.txt | 4 \u001b[32m++\u001b[m\u001b[31m--\u001b[m\n",
      " 1 file changed, 2 insertions(+), 2 deletions(-)\n"
     ]
    }
   ],
   "source": [
    "git merge FF_Merge --no-ff -m \"Merge branch FastForward\""
   ]
  },
  {
   "cell_type": "code",
   "execution_count": 13,
   "metadata": {},
   "outputs": [
    {
     "name": "stdout",
     "output_type": "stream",
     "text": [
      "*   \u001b[1;34m17934d3\u001b[m - \u001b[1;32m(0 seconds ago)\u001b[m \u001b[37mMerge branch FastForward\u001b[m \u001b[2;37m- Addie Morrison\u001b[m\u001b[1;33m (HEAD -> master)\u001b[m\n",
      "\u001b[31m|\u001b[m\u001b[32m\\\u001b[m  \n",
      "\u001b[31m|\u001b[m * \u001b[1;34mf612073\u001b[m - \u001b[1;32m(1 second ago)\u001b[m \u001b[37mChanged another word\u001b[m \u001b[2;37m- Addie Morrison\u001b[m\u001b[1;33m (FF_Merge)\u001b[m\n",
      "\u001b[31m|\u001b[m * \u001b[1;34m4fb4574\u001b[m - \u001b[1;32m(2 seconds ago)\u001b[m \u001b[37mChanged a word\u001b[m \u001b[2;37m- Addie Morrison\u001b[m\u001b[1;33m\u001b[m\n",
      "\u001b[31m|\u001b[m\u001b[31m/\u001b[m  \n",
      "* \u001b[1;34m8af5a57\u001b[m - \u001b[1;32m(3 seconds ago)\u001b[m \u001b[37mInitial Commit\u001b[m \u001b[2;37m- Addie Morrison\u001b[m\u001b[1;33m\u001b[m"
     ]
    }
   ],
   "source": [
    "git lg"
   ]
  },
  {
   "cell_type": "markdown",
   "metadata": {},
   "source": [
    "## Recursive Merges\n",
    "This is the default merge strategy that git uses (for standard two-branch merges).\n",
    "\n",
    "Essentially, recursive merges solve a whole series of headaches that arise from doing development on larger projects where parts of history need to be merged at different times to keep up with development.\n",
    "\n",
    "To avoid an intdeterminant scenario where one ancestor would have to be selected as the basis for the merge, git recursively walks down possible trees to find any/all common ancestors between the two commits, and uses that tree as the basis for the merge\n",
    "\n",
    "But, recursive merges work right so often. Let's demonstrate one of the few cases where they go wrong\n",
    "\n"
   ]
  },
  {
   "cell_type": "code",
   "execution_count": 14,
   "metadata": {},
   "outputs": [
    {
     "name": "stdout",
     "output_type": "stream",
     "text": [
      "Initialized empty Git repository in /Users/kate/Documents/Uni/CS480/Assignments/RecursiveMerge/.git/\n"
     ]
    }
   ],
   "source": [
    "cd ..\n",
    "mkdir RecursiveMerge\n",
    "cd RecursiveMerge\n",
    "git init"
   ]
  },
  {
   "cell_type": "code",
   "execution_count": 15,
   "metadata": {},
   "outputs": [
    {
     "name": "stdout",
     "output_type": "stream",
     "text": [
      "[master (root-commit) d0adf6d] Base file\n",
      " 1 file changed, 3 insertions(+)\n",
      " create mode 100644 Recursive.txt\n"
     ]
    }
   ],
   "source": [
    "cat << EOF > Recursive.txt\n",
    "Reading\n",
    "Sleep\n",
    "Kitten\n",
    "EOF\n",
    "\n",
    "git add .\n",
    "git commit -m \"Base file\""
   ]
  },
  {
   "cell_type": "code",
   "execution_count": 16,
   "metadata": {},
   "outputs": [],
   "source": [
    "git branch Branch"
   ]
  },
  {
   "cell_type": "code",
   "execution_count": 17,
   "metadata": {},
   "outputs": [
    {
     "name": "stdout",
     "output_type": "stream",
     "text": [
      "Switched to branch 'Branch'\n",
      "[Branch 88d438f] Appended a line\n",
      " 1 file changed, 1 insertion(+)\n"
     ]
    }
   ],
   "source": [
    "git checkout Branch\n",
    "\n",
    "cat << EOF > Recursive.txt\n",
    "Reading\n",
    "Sleep\n",
    "Kitten\n",
    "Fairness\n",
    "EOF\n",
    "\n",
    "git add .\n",
    "git commit -m \"Appended a line\""
   ]
  },
  {
   "cell_type": "code",
   "execution_count": 18,
   "metadata": {},
   "outputs": [
    {
     "name": "stdout",
     "output_type": "stream",
     "text": [
      "Switched to branch 'master'\n",
      "[master 85ebca8] Changed a line\n",
      " 1 file changed, 1 insertion(+), 1 deletion(-)\n"
     ]
    }
   ],
   "source": [
    "git checkout master\n",
    "\n",
    "cat << EOF > Recursive.txt\n",
    "Reading\n",
    "Cthulhu\n",
    "Kitten\n",
    "EOF\n",
    "\n",
    "git add .\n",
    "git commit -m \"Changed a line\""
   ]
  },
  {
   "cell_type": "code",
   "execution_count": 19,
   "metadata": {},
   "outputs": [
    {
     "name": "stdout",
     "output_type": "stream",
     "text": [
      "Switched to branch 'Branch'\n",
      "Auto-merging Recursive.txt\n",
      "Merge made by the 'recursive' strategy.\n",
      " Recursive.txt | 2 \u001b[32m+\u001b[m\u001b[31m-\u001b[m\n",
      " 1 file changed, 1 insertion(+), 1 deletion(-)\n"
     ]
    }
   ],
   "source": [
    "git checkout Branch\n",
    "git merge master --no-ff -m \"Merge Master\""
   ]
  },
  {
   "cell_type": "code",
   "execution_count": 20,
   "metadata": {},
   "outputs": [
    {
     "name": "stdout",
     "output_type": "stream",
     "text": [
      "Switched to branch 'master'\n",
      "Merge made by the 'recursive' strategy.\n",
      " Recursive.txt | 1 \u001b[32m+\u001b[m\n",
      " 1 file changed, 1 insertion(+)\n"
     ]
    }
   ],
   "source": [
    "git checkout master\n",
    "git merge Branch --no-ff -m \"Merge Branch\""
   ]
  },
  {
   "cell_type": "code",
   "execution_count": 21,
   "metadata": {},
   "outputs": [
    {
     "name": "stdout",
     "output_type": "stream",
     "text": [
      "*   \u001b[1;34m70eec8b\u001b[m - \u001b[1;32m(0 seconds ago)\u001b[m \u001b[37mMerge Branch\u001b[m \u001b[2;37m- Addie Morrison\u001b[m\u001b[1;33m (HEAD -> master)\u001b[m\n",
      "\u001b[31m|\u001b[m\u001b[32m\\\u001b[m  \n",
      "\u001b[31m|\u001b[m *   \u001b[1;34m73c7428\u001b[m - \u001b[1;32m(0 seconds ago)\u001b[m \u001b[37mMerge Master\u001b[m \u001b[2;37m- Addie Morrison\u001b[m\u001b[1;33m (Branch)\u001b[m\n",
      "\u001b[31m|\u001b[m \u001b[33m|\u001b[m\u001b[31m\\\u001b[m  \n",
      "\u001b[31m|\u001b[m \u001b[33m|\u001b[m\u001b[31m/\u001b[m  \n",
      "\u001b[31m|\u001b[m\u001b[31m/\u001b[m\u001b[33m|\u001b[m   \n",
      "* \u001b[33m|\u001b[m \u001b[1;34m85ebca8\u001b[m - \u001b[1;32m(1 second ago)\u001b[m \u001b[37mChanged a line\u001b[m \u001b[2;37m- Addie Morrison\u001b[m\u001b[1;33m\u001b[m\n",
      "\u001b[34m|\u001b[m * \u001b[1;34m88d438f\u001b[m - \u001b[1;32m(1 second ago)\u001b[m \u001b[37mAppended a line\u001b[m \u001b[2;37m- Addie Morrison\u001b[m\u001b[1;33m\u001b[m\n",
      "\u001b[34m|\u001b[m\u001b[34m/\u001b[m  \n",
      "* \u001b[1;34md0adf6d\u001b[m - \u001b[1;32m(2 seconds ago)\u001b[m \u001b[37mBase file\u001b[m \u001b[2;37m- Addie Morrison\u001b[m\u001b[1;33m\u001b[m"
     ]
    }
   ],
   "source": [
    "git lg"
   ]
  },
  {
   "cell_type": "code",
   "execution_count": 22,
   "metadata": {},
   "outputs": [
    {
     "name": "stdout",
     "output_type": "stream",
     "text": [
      "Switched to branch 'Branch'\n",
      "[Branch 20a261a] Changed the appended line\n",
      " 1 file changed, 2 insertions(+), 2 deletions(-)\n"
     ]
    }
   ],
   "source": [
    "git checkout Branch\n",
    "cat << EOF > Recursive.txt\n",
    "Reading\n",
    "Sleep\n",
    "Kitten\n",
    "Socialism\n",
    "EOF\n",
    "\n",
    "git add .\n",
    "git commit -m \"Changed the appended line\""
   ]
  },
  {
   "cell_type": "code",
   "execution_count": 23,
   "metadata": {},
   "outputs": [
    {
     "name": "stdout",
     "output_type": "stream",
     "text": [
      "Switched to branch 'master'\n",
      "[master fcfaf42] Undid the change\n",
      " 1 file changed, 1 insertion(+), 2 deletions(-)\n"
     ]
    }
   ],
   "source": [
    "git checkout master\n",
    "cat << EOF > Recursive.txt\n",
    "Reading\n",
    "Sleep\n",
    "Kitten\n",
    "EOF\n",
    "\n",
    "git add .\n",
    "git commit -m \"Undid the change\""
   ]
  },
  {
   "cell_type": "code",
   "execution_count": 24,
   "metadata": {},
   "outputs": [
    {
     "name": "stdout",
     "output_type": "stream",
     "text": [
      "* \u001b[1;34m20a261a\u001b[m - \u001b[1;32m(0 seconds ago)\u001b[m \u001b[37mChanged the appended line\u001b[m \u001b[2;37m- Addie Morrison\u001b[m\u001b[1;33m (Branch)\u001b[m\n",
      "\u001b[31m|\u001b[m * \u001b[1;34mfcfaf42\u001b[m - \u001b[1;32m(0 seconds ago)\u001b[m \u001b[37mUndid the change\u001b[m \u001b[2;37m- Addie Morrison\u001b[m\u001b[1;33m (HEAD -> master)\u001b[m\n",
      "\u001b[31m|\u001b[m *   \u001b[1;34m70eec8b\u001b[m - \u001b[1;32m(1 second ago)\u001b[m \u001b[37mMerge Branch\u001b[m \u001b[2;37m- Addie Morrison\u001b[m\u001b[1;33m\u001b[m\n",
      "\u001b[31m|\u001b[m \u001b[33m|\u001b[m\u001b[31m\\\u001b[m  \n",
      "\u001b[31m|\u001b[m \u001b[33m|\u001b[m\u001b[31m/\u001b[m  \n",
      "\u001b[31m|\u001b[m\u001b[31m/\u001b[m\u001b[33m|\u001b[m   \n",
      "* \u001b[33m|\u001b[m   \u001b[1;34m73c7428\u001b[m - \u001b[1;32m(1 second ago)\u001b[m \u001b[37mMerge Master\u001b[m \u001b[2;37m- Addie Morrison\u001b[m\u001b[1;33m\u001b[m\n",
      "\u001b[35m|\u001b[m\u001b[33m\\\u001b[m \u001b[33m\\\u001b[m  \n",
      "\u001b[35m|\u001b[m \u001b[33m|\u001b[m\u001b[33m/\u001b[m  \n",
      "\u001b[35m|\u001b[m * \u001b[1;34m85ebca8\u001b[m - \u001b[1;32m(2 seconds ago)\u001b[m \u001b[37mChanged a line\u001b[m \u001b[2;37m- Addie Morrison\u001b[m\u001b[1;33m\u001b[m\n",
      "* \u001b[36m|\u001b[m \u001b[1;34m88d438f\u001b[m - \u001b[1;32m(2 seconds ago)\u001b[m \u001b[37mAppended a line\u001b[m \u001b[2;37m- Addie Morrison\u001b[m\u001b[1;33m\u001b[m\n",
      "\u001b[36m|\u001b[m\u001b[36m/\u001b[m  \n",
      "* \u001b[1;34md0adf6d\u001b[m - \u001b[1;32m(3 seconds ago)\u001b[m \u001b[37mBase file\u001b[m \u001b[2;37m- Addie Morrison\u001b[m\u001b[1;33m\u001b[m"
     ]
    }
   ],
   "source": [
    "git lg"
   ]
  },
  {
   "cell_type": "code",
   "execution_count": 25,
   "metadata": {},
   "outputs": [
    {
     "name": "stdout",
     "output_type": "stream",
     "text": [
      "Already on 'master'\n",
      "Auto-merging Recursive.txt\n",
      "CONFLICT (content): Merge conflict in Recursive.txt\n",
      "Automatic merge failed; fix conflicts and then commit the result.\n"
     ]
    },
    {
     "ename": "",
     "evalue": "1",
     "execution_count": 25,
     "output_type": "error",
     "traceback": []
    }
   ],
   "source": [
    "git checkout master\n",
    "git merge Branch --no-ff -m \"Final Merge\""
   ]
  },
  {
   "cell_type": "code",
   "execution_count": 26,
   "metadata": {},
   "outputs": [
    {
     "name": "stdout",
     "output_type": "stream",
     "text": [
      "Reading\n",
      "Sleep\n",
      "Kitten\n",
      "<<<<<<< HEAD\n",
      "=======\n",
      "Socialism\n",
      ">>>>>>> Branch\n"
     ]
    }
   ],
   "source": [
    "cat Recursive.txt"
   ]
  },
  {
   "cell_type": "markdown",
   "metadata": {},
   "source": [
    "While to a human it's perfectly obvious what the result should be\n",
    "\n",
    "```\n",
    "Reading\n",
    "Cthulhu\n",
    "Kitten\n",
    "Socialism\n",
    "```\n",
    "\n",
    "The recursive merge's tree can't actually resolve it automatically!"
   ]
  },
  {
   "cell_type": "markdown",
   "metadata": {},
   "source": [
    "## Bonus points: Octopus merge!\n",
    "2cde51fbd0f3\n",
    "\n",
    "Octopus merge is a simple strategy for merging more than two branches (for unrelated feature branches, for instance)\n",
    "\n",
    "Note that all changesets must be unrelated for automatic resolution to succeed"
   ]
  },
  {
   "cell_type": "code",
   "execution_count": 27,
   "metadata": {},
   "outputs": [
    {
     "name": "stdout",
     "output_type": "stream",
     "text": [
      "Initialized empty Git repository in /Users/kate/Documents/Uni/CS480/Assignments/Octopus/.git/\n"
     ]
    }
   ],
   "source": [
    "cd ..\n",
    "mkdir Octopus\n",
    "cd Octopus\n",
    "git init"
   ]
  },
  {
   "cell_type": "code",
   "execution_count": 28,
   "metadata": {},
   "outputs": [
    {
     "name": "stdout",
     "output_type": "stream",
     "text": [
      "[master (root-commit) 8a8fe90] Initial Commit\n",
      " 1 file changed, 1 insertion(+)\n",
      " create mode 100644 masterFile.txt\n"
     ]
    }
   ],
   "source": [
    "cat << EOF > masterFile.txt\n",
    "Contents of a file\n",
    "EOF\n",
    "\n",
    "git add .\n",
    "git commit -m \"Initial Commit\""
   ]
  },
  {
   "cell_type": "code",
   "execution_count": 29,
   "metadata": {},
   "outputs": [
    {
     "name": "stdout",
     "output_type": "stream",
     "text": [
      "Switched to branch 'Feature1'\n",
      "[Feature1 8b7282d] Feature 1\n",
      " 1 file changed, 1 insertion(+)\n",
      " create mode 100644 Feature1.txt\n"
     ]
    }
   ],
   "source": [
    "git branch Feature1\n",
    "git checkout Feature1\n",
    "\n",
    "cat << EOF > Feature1.txt\n",
    "Contents of Feature1\n",
    "EOF\n",
    "\n",
    "git add .\n",
    "git commit -m \"Feature 1\""
   ]
  },
  {
   "cell_type": "code",
   "execution_count": 30,
   "metadata": {},
   "outputs": [
    {
     "name": "stdout",
     "output_type": "stream",
     "text": [
      "Switched to branch 'master'\n",
      "Switched to branch 'Feature2'\n",
      "[Feature2 2fc60d8] Feature 2\n",
      " 1 file changed, 1 insertion(+)\n",
      " create mode 100644 Feature2.txt\n"
     ]
    }
   ],
   "source": [
    "git checkout master\n",
    "git branch Feature2\n",
    "git checkout Feature2\n",
    "\n",
    "cat << EOF > Feature2.txt\n",
    "Contents of Feature2\n",
    "EOF\n",
    "\n",
    "git add .\n",
    "git commit -m \"Feature 2\""
   ]
  },
  {
   "cell_type": "code",
   "execution_count": 31,
   "metadata": {},
   "outputs": [
    {
     "name": "stdout",
     "output_type": "stream",
     "text": [
      "Switched to branch 'master'\n",
      "Switched to branch 'Feature3'\n",
      "[Feature3 23b16dc] Feature 3\n",
      " 1 file changed, 1 insertion(+)\n",
      " create mode 100644 Feature3.txt\n"
     ]
    }
   ],
   "source": [
    "git checkout master\n",
    "git branch Feature3\n",
    "git checkout Feature3\n",
    "\n",
    "cat << EOF > Feature3.txt\n",
    "Contents of Feature3\n",
    "EOF\n",
    "\n",
    "git add .\n",
    "git commit -m \"Feature 3\""
   ]
  },
  {
   "cell_type": "code",
   "execution_count": 32,
   "metadata": {},
   "outputs": [
    {
     "name": "stdout",
     "output_type": "stream",
     "text": [
      "Switched to branch 'master'\n",
      "[master cb5b2e2] Changed MasterFile\n",
      " 1 file changed, 1 insertion(+), 1 deletion(-)\n"
     ]
    }
   ],
   "source": [
    "git checkout master\n",
    "\n",
    "cat << EOF > masterFile.txt\n",
    "Contents of THE file\n",
    "EOF\n",
    "\n",
    "git add .\n",
    "git commit -m \"Changed MasterFile\""
   ]
  },
  {
   "cell_type": "code",
   "execution_count": 33,
   "metadata": {},
   "outputs": [
    {
     "name": "stdout",
     "output_type": "stream",
     "text": [
      "* \u001b[1;34m23b16dc\u001b[m - \u001b[1;32m(1 second ago)\u001b[m \u001b[37mFeature 3\u001b[m \u001b[2;37m- Addie Morrison\u001b[m\u001b[1;33m (Feature3)\u001b[m\n",
      "\u001b[31m|\u001b[m * \u001b[1;34mcb5b2e2\u001b[m - \u001b[1;32m(1 second ago)\u001b[m \u001b[37mChanged MasterFile\u001b[m \u001b[2;37m- Addie Morrison\u001b[m\u001b[1;33m (HEAD -> master)\u001b[m\n",
      "\u001b[31m|\u001b[m\u001b[31m/\u001b[m  \n",
      "\u001b[31m|\u001b[m * \u001b[1;34m2fc60d8\u001b[m - \u001b[1;32m(2 seconds ago)\u001b[m \u001b[37mFeature 2\u001b[m \u001b[2;37m- Addie Morrison\u001b[m\u001b[1;33m (Feature2)\u001b[m\n",
      "\u001b[31m|\u001b[m\u001b[31m/\u001b[m  \n",
      "\u001b[31m|\u001b[m * \u001b[1;34m8b7282d\u001b[m - \u001b[1;32m(3 seconds ago)\u001b[m \u001b[37mFeature 1\u001b[m \u001b[2;37m- Addie Morrison\u001b[m\u001b[1;33m (Feature1)\u001b[m\n",
      "\u001b[31m|\u001b[m\u001b[31m/\u001b[m  \n",
      "* \u001b[1;34m8a8fe90\u001b[m - \u001b[1;32m(4 seconds ago)\u001b[m \u001b[37mInitial Commit\u001b[m \u001b[2;37m- Addie Morrison\u001b[m\u001b[1;33m\u001b[m"
     ]
    }
   ],
   "source": [
    "git lg"
   ]
  },
  {
   "cell_type": "code",
   "execution_count": 34,
   "metadata": {},
   "outputs": [
    {
     "name": "stdout",
     "output_type": "stream",
     "text": [
      "Trying simple merge with Feature1\n",
      "Trying simple merge with Feature2\n",
      "Trying simple merge with Feature3\n",
      "Merge made by the 'octopus' strategy.\n",
      " Feature1.txt | 1 \u001b[32m+\u001b[m\n",
      " Feature2.txt | 1 \u001b[32m+\u001b[m\n",
      " Feature3.txt | 1 \u001b[32m+\u001b[m\n",
      " 3 files changed, 3 insertions(+)\n",
      " create mode 100644 Feature1.txt\n",
      " create mode 100644 Feature2.txt\n",
      " create mode 100644 Feature3.txt\n"
     ]
    }
   ],
   "source": [
    "git merge Feature1 Feature2 Feature3 -m \"Cephalopod merge\""
   ]
  },
  {
   "cell_type": "code",
   "execution_count": 35,
   "metadata": {},
   "outputs": [
    {
     "name": "stdout",
     "output_type": "stream",
     "text": [
      "*\u001b[33m-\u001b[m\u001b[33m-\u001b[m\u001b[34m-\u001b[m\u001b[34m.\u001b[m   \u001b[1;34m7eab7b1\u001b[m - \u001b[1;32m(0 seconds ago)\u001b[m \u001b[37mCephalopod merge\u001b[m \u001b[2;37m- Addie Morrison\u001b[m\u001b[1;33m (HEAD -> master)\u001b[m\n",
      "\u001b[31m|\u001b[m\u001b[32m\\\u001b[m \u001b[33m\\\u001b[m \u001b[34m\\\u001b[m  \n",
      "\u001b[31m|\u001b[m \u001b[32m|\u001b[m \u001b[33m|\u001b[m * \u001b[1;34m23b16dc\u001b[m - \u001b[1;32m(1 second ago)\u001b[m \u001b[37mFeature 3\u001b[m \u001b[2;37m- Addie Morrison\u001b[m\u001b[1;33m (Feature3)\u001b[m\n",
      "\u001b[31m|\u001b[m \u001b[32m|\u001b[m * \u001b[34m|\u001b[m \u001b[1;34m2fc60d8\u001b[m - \u001b[1;32m(2 seconds ago)\u001b[m \u001b[37mFeature 2\u001b[m \u001b[2;37m- Addie Morrison\u001b[m\u001b[1;33m (Feature2)\u001b[m\n",
      "\u001b[31m|\u001b[m \u001b[32m|\u001b[m \u001b[34m|\u001b[m\u001b[34m/\u001b[m  \n",
      "\u001b[31m|\u001b[m * \u001b[34m|\u001b[m \u001b[1;34m8b7282d\u001b[m - \u001b[1;32m(3 seconds ago)\u001b[m \u001b[37mFeature 1\u001b[m \u001b[2;37m- Addie Morrison\u001b[m\u001b[1;33m (Feature1)\u001b[m\n",
      "\u001b[31m|\u001b[m \u001b[34m|\u001b[m\u001b[34m/\u001b[m  \n",
      "* \u001b[34m|\u001b[m \u001b[1;34mcb5b2e2\u001b[m - \u001b[1;32m(1 second ago)\u001b[m \u001b[37mChanged MasterFile\u001b[m \u001b[2;37m- Addie Morrison\u001b[m\u001b[1;33m\u001b[m\n",
      "\u001b[34m|\u001b[m\u001b[34m/\u001b[m  \n",
      "* \u001b[1;34m8a8fe90\u001b[m - \u001b[1;32m(4 seconds ago)\u001b[m \u001b[37mInitial Commit\u001b[m \u001b[2;37m- Addie Morrison\u001b[m\u001b[1;33m\u001b[m"
     ]
    }
   ],
   "source": [
    "git lg"
   ]
  }
 ],
 "metadata": {
  "kernelspec": {
   "display_name": "Bash",
   "language": "bash",
   "name": "bash"
  },
  "language_info": {
   "codemirror_mode": "shell",
   "file_extension": ".sh",
   "mimetype": "text/x-sh",
   "name": "bash"
  }
 },
 "nbformat": 4,
 "nbformat_minor": 2
}
