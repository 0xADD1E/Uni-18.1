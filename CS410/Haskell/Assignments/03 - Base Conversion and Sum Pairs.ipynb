{
 "cells": [
  {
   "cell_type": "markdown",
   "metadata": {},
   "source": [
    "# Base Conversion and Summing Pairs\n",
    "\n",
    "## Base Conversion\n",
    "Write a function `binInt s`, which takes as input a string `s` containing a binary number, and returns that number (in decimal). As a special case, it returns `0` for the empty string. \n",
    "## Summing Pairs \n",
    "Write a function `addTwos x`, which takes as input a list `x` of Doubles, and returns the list containing sums of pairs of values in `x`.  If `x` has an odd number of elements, its last value is ignored."
   ]
  },
  {
   "cell_type": "code",
   "execution_count": 1,
   "metadata": {
    "collapsed": true
   },
   "outputs": [],
   "source": [
    "--Test helper\n",
    "runTests :: Eq a => Eq b => (a -> b) -> [(a, b)] -> Bool\n",
    "runTests f x = map (f . fst) x == map snd x"
   ]
  },
  {
   "cell_type": "code",
   "execution_count": 2,
   "metadata": {},
   "outputs": [],
   "source": [
    "charToInt :: Char -> Integer\n",
    "binInt :: String -> Integer\n",
    "\n",
    "charToInt x = (read [x] :: Integer) -- We would also if/then or case or guard or something but honestly why\n",
    "\n",
    "binInt \"\" = 0\n",
    "binInt (h:str) = charToInt h * 2 ^ length str + binInt str"
   ]
  },
  {
   "cell_type": "code",
   "execution_count": 3,
   "metadata": {
    "collapsed": true
   },
   "outputs": [],
   "source": [
    "addTwos :: [Double] -> [Double]\n",
    "addTwos x = if length x >= 2 then sum (take 2 x) : addTwos (drop 2 x) else []"
   ]
  },
  {
   "cell_type": "code",
   "execution_count": 4,
   "metadata": {},
   "outputs": [
    {
     "data": {
      "text/plain": [
       "True"
      ]
     },
     "metadata": {},
     "output_type": "display_data"
    }
   ],
   "source": [
    "test1 = [\n",
    "    (\"1110\", 14),\n",
    "    (\"0\", 0),\n",
    "    (take 4 (cycle \"01\"), 5),\n",
    "    (\"\", 0),\n",
    "    (\"1\", 1)\n",
    "    ]\n",
    "runTests binInt test1"
   ]
  },
  {
   "cell_type": "code",
   "execution_count": 5,
   "metadata": {},
   "outputs": [
    {
     "data": {
      "text/plain": [
       "True"
      ]
     },
     "metadata": {},
     "output_type": "display_data"
    }
   ],
   "source": [
    "test2 = [\n",
    "    ([3, 4.6, -2.4, 4], [7.6, 1.6]),\n",
    "    ([5, 3, 1], [8.0]),\n",
    "    ([], []),\n",
    "    ( [1, 2, -3, -4, 5, 6], [3.0, -7.0, 11.0])\n",
    "    ]\n",
    "runTests addTwos test2"
   ]
  },
  {
   "cell_type": "code",
   "execution_count": null,
   "metadata": {
    "collapsed": true
   },
   "outputs": [],
   "source": []
  }
 ],
 "metadata": {
  "kernelspec": {
   "display_name": "Haskell",
   "language": "haskell",
   "name": "haskell"
  },
  "language_info": {
   "codemirror_mode": "ihaskell",
   "file_extension": ".hs",
   "name": "haskell",
   "version": "8.2.2"
  }
 },
 "nbformat": 4,
 "nbformat_minor": 2
}
