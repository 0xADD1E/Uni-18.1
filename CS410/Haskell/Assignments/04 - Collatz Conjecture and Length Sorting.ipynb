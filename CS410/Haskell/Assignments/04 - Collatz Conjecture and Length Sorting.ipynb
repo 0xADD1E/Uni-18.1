{
 "cells": [
  {
   "cell_type": "markdown",
   "metadata": {},
   "source": [
    "# Collatz Conjecture and Length Sorts"
   ]
  },
  {
   "cell_type": "code",
   "execution_count": 1,
   "metadata": {
    "collapsed": true
   },
   "outputs": [],
   "source": [
    "--Test helper\n",
    "runTests :: Eq a => Eq b => (a -> b) -> [(a, b)] -> Bool\n",
    "runTests f x = map (f . fst) x == map snd x"
   ]
  },
  {
   "cell_type": "markdown",
   "metadata": {},
   "source": [
    "The Collatz Conjecture is as follows: Take any positive integer n. If n is even, divide it by 2 to obtain n/2. But if n is odd, multiply it by 3 and add 1 to obtain 3n+1. Repeat this process indefinitely.  The conjecture states that no matter which number you start with, you always reach 1 eventually.  For example, starting from n = 12, the following 9 steps reach 1: 12, 6, 3, 10, 5, 16, 8, 4, 2, 1.\n",
    "\n",
    "Write a function collatz n, which takes as input an integer n, and returns the number of steps required to reach 1. As a special case, return -1 if n is not positive. "
   ]
  },
  {
   "cell_type": "code",
   "execution_count": 1,
   "metadata": {
    "collapsed": true
   },
   "outputs": [],
   "source": [
    "collatz :: Integer -> Integer\n",
    "collatz x \n",
    "        | x <= 0    = -1                       -- Illegal Case\n",
    "        | x == 1    = 0                        -- Base Case\n",
    "        | even x    = 1 + collatz (x `div` 2)  -- Even Case\n",
    "        | otherwise = 1 + collatz (x * 3 + 1)  -- Odd Case"
   ]
  },
  {
   "cell_type": "code",
   "execution_count": 3,
   "metadata": {},
   "outputs": [
    {
     "data": {
      "text/plain": [
       "True"
      ]
     },
     "metadata": {},
     "output_type": "display_data"
    }
   ],
   "source": [
    "test1 = [\n",
    "    (12, 9),\n",
    "    (25, 23),\n",
    "    (0, -1),\n",
    "    (500, 110)\n",
    "    ]\n",
    "runTests collatz test1"
   ]
  },
  {
   "cell_type": "markdown",
   "metadata": {},
   "source": [
    "Write a function lensort x, which takes as input a list x of sublists, and sorts the sublists in x according to their lengths.  Feel free to adopt any of the three list sorting methods done in class."
   ]
  },
  {
   "cell_type": "code",
   "execution_count": 4,
   "metadata": {
    "collapsed": true
   },
   "outputs": [],
   "source": [
    "lensort :: [[a]] -> [[a]]\n",
    "\n",
    "lensort []     = []\n",
    "lensort (p:xs) = (lensort lesser) ++ [p] ++ (lensort greater)\n",
    "    where lesser  = [x | x <- xs, length x < length p]\n",
    "          greater = [x | x <- xs, length x >= length p]"
   ]
  },
  {
   "cell_type": "code",
   "execution_count": 5,
   "metadata": {},
   "outputs": [
    {
     "data": {
      "text/plain": [
       "True"
      ]
     },
     "metadata": {},
     "output_type": "display_data"
    }
   ],
   "source": [
    "test2 = [\n",
    "    ([ \"the\", \"quick\", \"brown\", \"fox\", \"jumps\", \"over\", \"a\", \"lazy\", \"dog\" ], [ \"a\", \"the\", \"fox\", \"dog\", \"over\", \"lazy\", \"quick\", \"brown\", \"jumps\" ]),\n",
    "    ([[]], [[]])\n",
    "    ]\n",
    "runTests lensort test2"
   ]
  },
  {
   "cell_type": "code",
   "execution_count": 6,
   "metadata": {},
   "outputs": [
    {
     "data": {
      "text/plain": [
       "[[17],[4,5],[9,10],[15,16],[1,2,3],[6,7,8],[11,12,13,14]]"
      ]
     },
     "metadata": {},
     "output_type": "display_data"
    }
   ],
   "source": [
    "-- For some reason, this didn't work with the test runner (IE: [([[Integer]])] wasn't valid. More investigation needed) \n",
    "lensort [[1, 2, 3], [4, 5], [6, 7, 8], [9, 10], [11, 12, 13, 14], [15, 16], [17]]\n",
    "-- [[17], [4, 5], [9, 10], [15, 16], [1, 2, 3], [6, 7, 8], [11, 12, 13, 14]]"
   ]
  },
  {
   "cell_type": "code",
   "execution_count": null,
   "metadata": {
    "collapsed": true
   },
   "outputs": [],
   "source": []
  }
 ],
 "metadata": {
  "kernelspec": {
   "display_name": "Haskell",
   "language": "haskell",
   "name": "haskell"
  },
  "language_info": {
   "codemirror_mode": "ihaskell",
   "file_extension": ".hs",
   "name": "haskell",
   "version": "8.2.2"
  }
 },
 "nbformat": 4,
 "nbformat_minor": 2
}
