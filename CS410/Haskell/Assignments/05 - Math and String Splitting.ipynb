{
 "cells": [
  {
   "cell_type": "markdown",
   "metadata": {},
   "source": [
    "# Difference of Sums and String Splitting"
   ]
  },
  {
   "cell_type": "code",
   "execution_count": 1,
   "metadata": {
    "collapsed": true
   },
   "outputs": [],
   "source": [
    "--Test helper\n",
    "runTests :: Eq a => Eq b => (a -> b) -> [(a, b)] -> Bool\n",
    "runTests f x = map (f . fst) x == map snd x"
   ]
  },
  {
   "cell_type": "markdown",
   "metadata": {},
   "source": [
    "## Difference of Sums\n",
    "Write a difference-of-squares function dos n, which takes as input an integer n, and returns the difference between the square of the sum and the sum of the squares of the first n positive numbers. For example, dos 10 = $(1 + 2 + ... + 10)^2 - (12 + 22 + ... + 102) = 2640$.  As a special case, return 0 if n is not positive. "
   ]
  },
  {
   "cell_type": "code",
   "execution_count": 2,
   "metadata": {
    "collapsed": true
   },
   "outputs": [],
   "source": [
    "-- Not everything has to be complicated and recursive\n",
    "dos :: Integer -> Integer\n",
    "dos n\n",
    "    | n <= 0    = 0\n",
    "    | otherwise = sum [0 .. n]^2 - sum [x^2 | x <- [0..n]]"
   ]
  },
  {
   "cell_type": "code",
   "execution_count": 3,
   "metadata": {},
   "outputs": [
    {
     "data": {
      "text/plain": [
       "True"
      ]
     },
     "metadata": {},
     "output_type": "display_data"
    }
   ],
   "source": [
    "test1 = [\n",
    "    (10, 2640),\n",
    "    (-1, 0),\n",
    "    (3, 22)\n",
    "    ]\n",
    "runTests dos test1"
   ]
  },
  {
   "cell_type": "markdown",
   "metadata": {},
   "source": [
    "## String Splitting\n",
    "Write a string-to-words function s2w s, which takes as input a string s, and returns the list of all words in s.  Adjacent words in s are considered to be separated by one or more spaces, and those spaces do not appear in the output."
   ]
  },
  {
   "cell_type": "code",
   "execution_count": 4,
   "metadata": {
    "collapsed": true
   },
   "outputs": [],
   "source": [
    "s2w :: String -> [String]\n",
    "takeWord :: String -> String\n",
    "takeWord' :: String -> String\n",
    "\n",
    "takeWord \"\" = \"\"\n",
    "takeWord (s:xs)\n",
    "                | s == ' '  = \"\"\n",
    "                | otherwise = s : takeWord xs\n",
    "\n",
    "takeWord' \"\" = \"\"\n",
    "takeWord' (s:xs)\n",
    "                | s == ' '  = takeWord' xs\n",
    "                | otherwise = s : xs\n",
    "s2w \"\" = []\n",
    "s2w s = word : s2w remainingString\n",
    "        where word = takeWord s\n",
    "              xs = drop (length word) s\n",
    "              remainingString = takeWord' xs"
   ]
  },
  {
   "cell_type": "code",
   "execution_count": 5,
   "metadata": {},
   "outputs": [
    {
     "data": {
      "text/plain": [
       "True"
      ]
     },
     "metadata": {},
     "output_type": "display_data"
    }
   ],
   "source": [
    "test2 = [\n",
    "    (\"Rajiv          Bagai    rocks!    :)\", [ \"Rajiv\", \"Bagai\", \"rocks!\", \":)\" ]),\n",
    "    (\"\", []),\n",
    "    (\"CS410\", [\"CS410\"])\n",
    "    ]\n",
    "runTests s2w test2"
   ]
  },
  {
   "cell_type": "code",
   "execution_count": null,
   "metadata": {
    "collapsed": true
   },
   "outputs": [],
   "source": []
  }
 ],
 "metadata": {
  "kernelspec": {
   "display_name": "Haskell",
   "language": "haskell",
   "name": "haskell"
  },
  "language_info": {
   "codemirror_mode": "ihaskell",
   "file_extension": ".hs",
   "name": "haskell",
   "version": "8.2.2"
  }
 },
 "nbformat": 4,
 "nbformat_minor": 2
}
