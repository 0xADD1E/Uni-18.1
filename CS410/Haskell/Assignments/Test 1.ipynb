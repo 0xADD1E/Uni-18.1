{
 "cells": [
  {
   "cell_type": "code",
   "execution_count": 1,
   "metadata": {},
   "outputs": [],
   "source": [
    "mystery x = [sum (take i x) | i <- [1 .. length x]]"
   ]
  },
  {
   "cell_type": "code",
   "execution_count": 2,
   "metadata": {},
   "outputs": [
    {
     "data": {
      "text/plain": [
       "[1,3,6,10]"
      ]
     },
     "metadata": {},
     "output_type": "display_data"
    }
   ],
   "source": [
    "mystery [1,2,3,4]"
   ]
  },
  {
   "cell_type": "code",
   "execution_count": 3,
   "metadata": {},
   "outputs": [],
   "source": [
    "remake :: [Integer] -> [Integer]\n",
    "remake []    = []\n",
    "remake (h:xs)  = sum (h:xs) : remake xs"
   ]
  },
  {
   "cell_type": "code",
   "execution_count": 4,
   "metadata": {},
   "outputs": [],
   "source": [
    "wrap :: [Integer] -> [Integer]\n",
    "wrap x = reverse (remake (reverse x))"
   ]
  },
  {
   "cell_type": "code",
   "execution_count": 5,
   "metadata": {},
   "outputs": [
    {
     "data": {
      "text/plain": [
       "[1,3,6,10]"
      ]
     },
     "metadata": {},
     "output_type": "display_data"
    }
   ],
   "source": [
    "wrap [1, 2, 3, 4]"
   ]
  },
  {
   "cell_type": "markdown",
   "metadata": {},
   "source": [
    "---"
   ]
  },
  {
   "cell_type": "markdown",
   "metadata": {},
   "source": [
    "## Test Cases\n",
    "```\n",
    "10+121\n",
    "131\n",
    "```"
   ]
  },
  {
   "cell_type": "code",
   "execution_count": 6,
   "metadata": {},
   "outputs": [],
   "source": [
    "doOper :: Char -> [Integer] -> Integer\n",
    "doOper op (x:y:ignore)\n",
    "                | op == '+' = x+y\n",
    "                | op == '-' = x-y\n",
    "                |otherwise = -999 --This will never happen"
   ]
  },
  {
   "cell_type": "code",
   "execution_count": 7,
   "metadata": {},
   "outputs": [],
   "source": [
    "parseOper :: String -> Char\n",
    "parseOper \"\"   = '+'\n",
    "parseOper (c:xs)\n",
    "                | c `elem` ['+', '-'] = c\n",
    "                | otherwise = parseOper xs"
   ]
  },
  {
   "cell_type": "code",
   "execution_count": 8,
   "metadata": {},
   "outputs": [],
   "source": [
    "takeArg :: String -> String\n",
    "takeArg' :: String -> String\n",
    "takeArg \"\" = \"\"\n",
    "takeArg (c:xs)\n",
    "                | c `elem` ['0'..'9'] = c:(takeArg xs)\n",
    "                | otherwise = \"\"\n",
    "takeArg' \"\" = \"\"\n",
    "takeArg' (c:xs)\n",
    "                | c `elem` ['0'..'9'] = (takeArg' xs)\n",
    "                | otherwise = xs"
   ]
  },
  {
   "cell_type": "code",
   "execution_count": 9,
   "metadata": {},
   "outputs": [],
   "source": [
    "parseArgs :: String -> [Integer]\n",
    "parseArgs [] = []\n",
    "parseArgs x =  num : parseArgs (takeArg' x)\n",
    "            where num = read (takeArg x) :: Integer"
   ]
  },
  {
   "cell_type": "code",
   "execution_count": 10,
   "metadata": {},
   "outputs": [],
   "source": [
    "calc :: String -> Integer\n",
    "calc x = doOper (parseOper x) (parseArgs x)"
   ]
  },
  {
   "cell_type": "code",
   "execution_count": null,
   "metadata": {},
   "outputs": [],
   "source": []
  }
 ],
 "metadata": {
  "kernelspec": {
   "display_name": "Haskell",
   "language": "haskell",
   "name": "haskell"
  },
  "language_info": {
   "codemirror_mode": "ihaskell",
   "file_extension": ".hs",
   "name": "haskell",
   "version": "8.2.2"
  }
 },
 "nbformat": 4,
 "nbformat_minor": 2
}
