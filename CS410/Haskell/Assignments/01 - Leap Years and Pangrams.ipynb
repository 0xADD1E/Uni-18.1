{
 "cells": [
  {
   "cell_type": "markdown",
   "metadata": {},
   "source": [
    "# Your mission ~~should you choose to accept it~~ is to implement the following functions\n",
    "## Leap\n",
    "The function leap n, which takes an integer n as input, and returns True if the year n is a leap year, and False otherwise.\n",
    "\n",
    "Leap years are those that are evenly divisible by 4, except any year that is also evenly divisible by 100 unless that year is also evenly divisible by 400. So, for example, 1996, 2012, and 2020 are all leap years, but 2100, 2200, and 2300 are not leap years, because although they are all evenly divisible by 4, they are also evenly divisible by 100. However, 1600, 2000, and 2400 are leap years, because although they are divisible by 100, they are also divisible by 400.\n",
    "\n",
    "## Pangram\n",
    "The function pangram s, which takes a string s as input, and returns True if s is a pangram, and False otherwise.\n",
    "\n",
    "Pangrams are strings that contain at least one occurrence of each letter of the English alphabet. They are not case-sensitive, so a letter may appear in either the upper case, or lower, or both."
   ]
  },
  {
   "cell_type": "code",
   "execution_count": 1,
   "metadata": {
    "collapsed": true
   },
   "outputs": [],
   "source": [
    "--A simple helper script to run tests for us. Makes life easier\n",
    "runTests :: Eq a => Eq b => (a -> b) -> [(a, b)] -> Bool\n",
    "runTests f x = map (f . fst) x == map snd x"
   ]
  },
  {
   "cell_type": "code",
   "execution_count": 2,
   "metadata": {
    "collapsed": true
   },
   "outputs": [],
   "source": [
    "--Just implement the logic like the problem says\n",
    "leap :: Integral a => a -> Bool\n",
    "leap x = x `mod` 4 == 0 && (x `mod` 100 /= 0 || x `mod` 400 == 0)"
   ]
  },
  {
   "cell_type": "code",
   "execution_count": 3,
   "metadata": {
    "collapsed": true
   },
   "outputs": [],
   "source": [
    "pangram :: [Char] -> Bool\n",
    "pangram x = length (\n",
    "                filter\n",
    "                    (\\c -> fst c `elem` x || snd c `elem` x) --Either the upper or lower case is in the string\n",
    "                    (zip ['A'..'Z'] ['a'..'z'])              --List of all alpha chars\n",
    "                ) == 26"
   ]
  },
  {
   "cell_type": "code",
   "execution_count": 4,
   "metadata": {},
   "outputs": [
    {
     "data": {
      "text/plain": [
       "True"
      ]
     },
     "metadata": {},
     "output_type": "display_data"
    }
   ],
   "source": [
    "leapTests = [\n",
    "    (1600, True),\n",
    "    (1996, True),\n",
    "    (1997, False), \n",
    "    (2000, True),\n",
    "    (2012, True),\n",
    "    (2100, False),\n",
    "    (2200, False),\n",
    "    (2300, False),\n",
    "    (2400, True)\n",
    "    ]\n",
    "\n",
    "runTests leap leapTests"
   ]
  },
  {
   "cell_type": "code",
   "execution_count": 5,
   "metadata": {},
   "outputs": [
    {
     "data": {
      "text/plain": [
       "True"
      ]
     },
     "metadata": {},
     "output_type": "display_data"
    }
   ],
   "source": [
    "pangramTests = [\n",
    "    (\"The quick brown fox jumps over the lazy dog\", True),\n",
    "    (\"Pack my box with five dozen liquor jugs!!\", True),\n",
    "    (\"Watch JEOPARDY!, Alex Trebek’s fun TV quiz game!\", True),\n",
    "    (\"I wanna be a Pangram, can I? :)\", False),\n",
    "    (\"Amazingly few discotheques provide jukeboxes.\", True),\n",
    "    (\"Back in June, we delivered oxygen equipment of the same size.\", True),\n",
    "    (\"My girl wove six dozen plaid jackets before she quit :(\", True),\n",
    "    (\"This is not a pangram\", False),\n",
    "    (\"This message has at least twenty six characters, but not all unique characters\", False)\n",
    "    ]\n",
    "\n",
    "runTests pangram pangramTests"
   ]
  },
  {
   "cell_type": "code",
   "execution_count": null,
   "metadata": {
    "collapsed": true
   },
   "outputs": [],
   "source": []
  }
 ],
 "metadata": {
  "kernelspec": {
   "display_name": "Haskell",
   "language": "haskell",
   "name": "haskell"
  },
  "language_info": {
   "codemirror_mode": "ihaskell",
   "file_extension": ".hs",
   "name": "haskell",
   "version": "8.2.2"
  }
 },
 "nbformat": 4,
 "nbformat_minor": 2
}
