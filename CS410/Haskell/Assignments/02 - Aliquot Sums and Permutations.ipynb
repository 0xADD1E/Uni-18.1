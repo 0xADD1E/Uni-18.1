{
 "cells": [
  {
   "cell_type": "markdown",
   "metadata": {},
   "source": [
    "# Aliquot Sums and Permutations\n",
    "## Aliquot Sums\n",
    "Sum all the factors of `n` less than `n`. Return `Illegal` if `n <= 0`, `Deficient` if their sum is less than `n`, `Perfect` if their sum is equal to `n`, and `Abundent` if their sum is greater than n\n",
    "\n",
    "## Permutations\n",
    "Create a function that determines if one array is a permutation of the other"
   ]
  },
  {
   "cell_type": "code",
   "execution_count": 1,
   "metadata": {},
   "outputs": [],
   "source": [
    "classify :: Integer -> String\n",
    "classify n = if s < 1\n",
    "                then \"Illegal\"\n",
    "            else if s < n\n",
    "                then \"Deficient\"\n",
    "            else if s == n\n",
    "                then \"Perfect\"\n",
    "            else \"Abundant\"\n",
    "    where factors = [x | x <- [1..n-1], n `mod` x == 0]\n",
    "          s = sum(factors)"
   ]
  },
  {
   "cell_type": "code",
   "execution_count": 2,
   "metadata": {},
   "outputs": [
    {
     "data": {
      "text/plain": [
       "\"Abundant\""
      ]
     },
     "metadata": {},
     "output_type": "display_data"
    }
   ],
   "source": [
    "classify 12 --Abundant"
   ]
  },
  {
   "cell_type": "code",
   "execution_count": 3,
   "metadata": {},
   "outputs": [
    {
     "data": {
      "text/plain": [
       "\"Illegal\""
      ]
     },
     "metadata": {},
     "output_type": "display_data"
    }
   ],
   "source": [
    "classify 0 --Illegal"
   ]
  },
  {
   "cell_type": "code",
   "execution_count": 4,
   "metadata": {},
   "outputs": [
    {
     "data": {
      "text/plain": [
       "\"Perfect\""
      ]
     },
     "metadata": {},
     "output_type": "display_data"
    }
   ],
   "source": [
    "classify 28 --Perfect"
   ]
  },
  {
   "cell_type": "code",
   "execution_count": 5,
   "metadata": {},
   "outputs": [
    {
     "data": {
      "text/plain": [
       "\"Deficient\""
      ]
     },
     "metadata": {},
     "output_type": "display_data"
    }
   ],
   "source": [
    "classify 8 --Deficient"
   ]
  },
  {
   "cell_type": "code",
   "execution_count": 6,
   "metadata": {},
   "outputs": [],
   "source": [
    "-- I'm at least 95% sure this is not how this was supposed to be solved\n",
    "-- But...\n",
    "-- It works\n",
    "-- It's a reasonably efficient algorithm (2n log(n)) iirc?\n",
    "-- It really shows off the beauty of Haskell\n",
    "quicksort :: Ord a => [a] -> [a]\n",
    "quicksort [] = []\n",
    "quicksort (p:xs) = quicksort less ++ [p] ++ quicksort greater\n",
    "    where less = [x | x <- xs, x < p]\n",
    "          greater = [x | x <- xs, x >= p]"
   ]
  },
  {
   "cell_type": "code",
   "execution_count": 7,
   "metadata": {},
   "outputs": [],
   "source": [
    "perms :: Ord a => [a] -> [a] -> Bool\n",
    "perms arr1 arr2 = quicksort arr1 == quicksort arr2"
   ]
  },
  {
   "cell_type": "code",
   "execution_count": 8,
   "metadata": {},
   "outputs": [
    {
     "data": {
      "text/plain": [
       "True"
      ]
     },
     "metadata": {},
     "output_type": "display_data"
    }
   ],
   "source": [
    "perms [3, 4, 2, 4] [4, 4, 2, 3] -- True"
   ]
  },
  {
   "cell_type": "code",
   "execution_count": 9,
   "metadata": {},
   "outputs": [
    {
     "data": {
      "text/plain": [
       "False"
      ]
     },
     "metadata": {},
     "output_type": "display_data"
    }
   ],
   "source": [
    "perms [1, 2, 3] [2, 1, 1, 3] --False"
   ]
  },
  {
   "cell_type": "code",
   "execution_count": 10,
   "metadata": {},
   "outputs": [
    {
     "data": {
      "text/plain": [
       "False"
      ]
     },
     "metadata": {},
     "output_type": "display_data"
    }
   ],
   "source": [
    "perms [1, 4] [2, 3, 4] --False"
   ]
  },
  {
   "cell_type": "code",
   "execution_count": 11,
   "metadata": {},
   "outputs": [
    {
     "data": {
      "text/plain": [
       "True"
      ]
     },
     "metadata": {},
     "output_type": "display_data"
    }
   ],
   "source": [
    "perms [(0, 1), (1, 2), (2, 3)] [(2, 3), (0, 1), (1, 2)] --True"
   ]
  },
  {
   "cell_type": "code",
   "execution_count": 12,
   "metadata": {},
   "outputs": [
    {
     "data": {
      "text/plain": [
       "True"
      ]
     },
     "metadata": {},
     "output_type": "display_data"
    }
   ],
   "source": [
    "perms \"listen\" \"silent\" --True"
   ]
  },
  {
   "cell_type": "code",
   "execution_count": null,
   "metadata": {
    "collapsed": true
   },
   "outputs": [],
   "source": []
  }
 ],
 "metadata": {
  "kernelspec": {
   "display_name": "Haskell",
   "language": "haskell",
   "name": "haskell"
  },
  "language_info": {
   "codemirror_mode": "ihaskell",
   "file_extension": ".hs",
   "name": "haskell",
   "version": "8.2.2"
  }
 },
 "nbformat": 4,
 "nbformat_minor": 2
}
