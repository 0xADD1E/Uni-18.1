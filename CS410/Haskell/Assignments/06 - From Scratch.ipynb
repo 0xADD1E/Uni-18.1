{
 "cells": [
  {
   "cell_type": "markdown",
   "metadata": {},
   "source": [
    "# Everything, and from scratch\n",
    "```\n",
    "Input String:       \"Wow Anna has a cute racecar !!\"\n",
    "Split to words:     [\"Wow\", \"Anna\", \"has\", \"a\", \"cute\", \"racecar\"]\n",
    "To Lower:           [\"wow\", \"anna\", \"has\", \"a\", \"cute\", \"racecar\"]\n",
    "Filter Palindromes: [\"wow\", \"anna\", \"a\", \"racecar\"]\n",
    "Count Vowels:       [1, 2, 1, 3]\n",
    "Sum:                7\n",
    "```"
   ]
  },
  {
   "cell_type": "code",
   "execution_count": 1,
   "metadata": {},
   "outputs": [],
   "source": [
    "deref :: Eq a => a -> [(a, a)] -> a\n",
    "deref e [] = e\n",
    "deref e ((x, y):xs) = if e==x || e==y then x else deref e xs"
   ]
  },
  {
   "cell_type": "code",
   "execution_count": 2,
   "metadata": {},
   "outputs": [],
   "source": [
    "myZip :: [a] -> [b] -> [(a, b)] \n",
    "myZip []     []     = []\n",
    "myZip x      []     = []\n",
    "myZip []     y      = []\n",
    "myZip (x:xs) (y:ys) = (x, y):myZip xs ys"
   ]
  },
  {
   "cell_type": "code",
   "execution_count": 3,
   "metadata": {},
   "outputs": [],
   "source": [
    "toLower :: String -> String\n",
    "toLower \"\" = \"\"\n",
    "toLower (c:xs) = lowerChar : toLower xs\n",
    "                where lowerChar = deref c (myZip ['a'..'z'] ['A'..'Z'])"
   ]
  },
  {
   "cell_type": "code",
   "execution_count": 4,
   "metadata": {},
   "outputs": [],
   "source": [
    "countVowels :: String -> Integer\n",
    "countVowels \"\" = 0\n",
    "countVowels (c:xs) = if c=='a'||c=='e'||c=='i'||c=='o'||c=='u' then 1 + countVowels xs else countVowels xs"
   ]
  },
  {
   "cell_type": "code",
   "execution_count": 5,
   "metadata": {},
   "outputs": [],
   "source": [
    "takeWord :: String -> String\n",
    "takeWord \"\" = \"\"\n",
    "takeWord (s:xs)\n",
    "                | s == ' '  = \"\"\n",
    "                | otherwise = s : takeWord xs"
   ]
  },
  {
   "cell_type": "code",
   "execution_count": 6,
   "metadata": {},
   "outputs": [],
   "source": [
    "takeWord' :: String -> String\n",
    "takeWord' \"\" = \"\"\n",
    "takeWord' (s:xs)\n",
    "                | s == ' '  = takeWord' xs\n",
    "                | otherwise = s : xs"
   ]
  },
  {
   "cell_type": "code",
   "execution_count": 7,
   "metadata": {},
   "outputs": [],
   "source": [
    "myLength :: [a] -> Integer\n",
    "myLength [] = 0\n",
    "myLength (p:xs) = 1 + myLength xs"
   ]
  },
  {
   "cell_type": "code",
   "execution_count": 8,
   "metadata": {},
   "outputs": [],
   "source": [
    "myDrop :: Integer -> [a] -> [a]\n",
    "myDrop 0 a = a\n",
    "myDrop n (p:xs) = myDrop (n-1) xs"
   ]
  },
  {
   "cell_type": "code",
   "execution_count": 9,
   "metadata": {},
   "outputs": [],
   "source": [
    "myReverse :: [a] -> [a]\n",
    "myReverse [] = []\n",
    "myReverse (p:xs) = myReverse xs ++ [p]"
   ]
  },
  {
   "cell_type": "code",
   "execution_count": 10,
   "metadata": {},
   "outputs": [],
   "source": [
    "func :: String -> Integer\n",
    "func \"\" = 0\n",
    "func s = count + func remainingString\n",
    "         where word = takeWord s\n",
    "               count = if word == myReverse word then countVowels word else 0\n",
    "               xs = myDrop (myLength word) s\n",
    "               remainingString = takeWord' xs"
   ]
  },
  {
   "cell_type": "code",
   "execution_count": 11,
   "metadata": {},
   "outputs": [
    {
     "data": {
      "text/plain": [
       "7"
      ]
     },
     "metadata": {},
     "output_type": "display_data"
    }
   ],
   "source": [
    "func (toLower \"Wow Anna has a cute racecar !!\") --7"
   ]
  },
  {
   "cell_type": "code",
   "execution_count": 12,
   "metadata": {},
   "outputs": [
    {
     "data": {
      "text/plain": [
       "5"
      ]
     },
     "metadata": {},
     "output_type": "display_data"
    }
   ],
   "source": [
    "func (toLower \"My mom takes out her kayak boat only on civic holidays.\") --5"
   ]
  },
  {
   "cell_type": "code",
   "execution_count": 13,
   "metadata": {},
   "outputs": [
    {
     "data": {
      "text/plain": [
       "0"
      ]
     },
     "metadata": {},
     "output_type": "display_data"
    }
   ],
   "source": [
    "func (toLower \"This sentence ain't got no palindromes!\") --0"
   ]
  },
  {
   "cell_type": "code",
   "execution_count": 14,
   "metadata": {},
   "outputs": [
    {
     "data": {
      "text/plain": [
       "6"
      ]
     },
     "metadata": {},
     "output_type": "display_data"
    }
   ],
   "source": [
    "func (toLower \"I think Ma'am is just a short form of Madam\") --6"
   ]
  },
  {
   "cell_type": "code",
   "execution_count": 15,
   "metadata": {},
   "outputs": [],
   "source": [
    "import System.Exit\n",
    "main = do\n",
    "      putStrLn \"Text: \"\n",
    "      string <- getLine\n",
    "      if string == \"\" then\n",
    "            exitSuccess\n",
    "      else do\n",
    "            print (show (func (toLower string))) --In class, putStrLn\n",
    "            main"
   ]
  },
  {
   "cell_type": "code",
   "execution_count": null,
   "metadata": {},
   "outputs": [],
   "source": []
  }
 ],
 "metadata": {
  "kernelspec": {
   "display_name": "Haskell",
   "language": "haskell",
   "name": "haskell"
  },
  "language_info": {
   "codemirror_mode": "ihaskell",
   "file_extension": ".hs",
   "name": "haskell",
   "version": "8.2.2"
  }
 },
 "nbformat": 4,
 "nbformat_minor": 2
}
