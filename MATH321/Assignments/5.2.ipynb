{
 "cells": [
  {
   "cell_type": "markdown",
   "metadata": {},
   "source": [
    "# 5.2"
   ]
  },
  {
   "cell_type": "markdown",
   "metadata": {},
   "source": [
    "## 3\n",
    "Let $t$ represent a three cent stamp, $f$ represent a five-cent stamp\n",
    "\n",
    "### A\n",
    "- $P(8)$ can be formed as $t+f$\n",
    "- $P(9)$ can be formed as $3t$\n",
    "- $P(10)$ can be formed as $2f$\n",
    "\n",
    "### B\n",
    "Assume that all previous cases of the proof hold -- cases $P(8)$ through $P(n-1)$ -- In this case, the proof will hold for cases $n$, $n+1$, $n+2$\n",
    "\n",
    "### C\n",
    "Show that cases $n$, $n+1$, $n+2$ hold\n",
    "\n",
    "### D\n",
    "For each case $n$, $n+1$, $n+2$, examine the case $n-3$, $n-2$, $n-1$ respectively. From there, simply add another three cent stamp\n",
    "\n",
    "### E\n",
    "Since we have the three cases, and are only adding a single three cent stamp, this ensures that we have the basis to climb in steps of three"
   ]
  },
  {
   "cell_type": "markdown",
   "metadata": {},
   "source": [
    "## 7\n",
    "Any integer number of dollars $n\\ge4$ can be formed from only two and five dollar bills\n",
    "\n",
    "### Base\n",
    "- Four dollars can be formed from two, two dollar bills\n",
    "- Five dollars can be formed from one, five dollar bill\n",
    "\n",
    "### Induction\n",
    "Assume all previous cases of the proof hold (through $n-1$) -- the proof will also hold for cases $n, n+1$\n",
    "\n",
    "Examine case $n-2$, or $n-1$ respectively. In either case, add a single two dollar bill. The desired amount of money has been achieved"
   ]
  },
  {
   "cell_type": "markdown",
   "metadata": {},
   "source": []
  }
 ],
 "metadata": {
  "kernelspec": {
   "display_name": "Python 3",
   "language": "python",
   "name": "python3"
  },
  "language_info": {
   "codemirror_mode": {
    "name": "ipython",
    "version": 3
   },
   "file_extension": ".py",
   "mimetype": "text/x-python",
   "name": "python",
   "nbconvert_exporter": "python",
   "pygments_lexer": "ipython3",
   "version": "3.6.5"
  }
 },
 "nbformat": 4,
 "nbformat_minor": 2
}
