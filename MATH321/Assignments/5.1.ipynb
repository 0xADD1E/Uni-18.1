{
 "cells": [
  {
   "cell_type": "markdown",
   "metadata": {},
   "source": [
    "# 5.1"
   ]
  },
  {
   "cell_type": "code",
   "execution_count": 1,
   "metadata": {},
   "outputs": [
    {
     "data": {
      "image/png": "[encoded data removed]",
      "text/latex": [
       "$$\\left ( Hello, \\quad World\\right )$$"
      ],
      "text/plain": [
       "(Hello, World)"
      ]
     },
     "execution_count": 1,
     "metadata": {},
     "output_type": "execute_result"
    }
   ],
   "source": [
    "import sympy as sp\n",
    "from sympy.abc import k\n",
    "sp.init_printing()\n",
    "sp.sympify('Hello, World')"
   ]
  },
  {
   "cell_type": "markdown",
   "metadata": {},
   "source": [
    "## 5\n",
    "### Base Case\n",
    "$1^2 = \\dfrac{(0+1)(2\\cdot0+1)(2\\cdot0+3)}{3}$\n",
    "\n",
    "### Inductive Step\n",
    "Assume the pattern holds through k\n",
    "\n",
    "#### TO PROVE\n",
    "$\\sum_{n=0}^{k+1}(2n+1)^2 = \\dfrac{((k+1)+1)(2\\cdot (k+1) + 1)(2\\cdot (k+1) + 3)}{3}$\n",
    "\n",
    "#### INDUCTION HYPOTHESIS\n",
    "$\\sum_{n=0}^k(2n+1)^2 = \\dfrac{(k+1)(2\\cdot k + 1)(2\\cdot k + 3)}{3}$\n",
    "\n",
    "$\\sum_{n=0}^{k}(2n+1)^2 +(2(k+1)+1)^2 = \\dfrac{(k+1)(2\\cdot k + 1)(2\\cdot k + 3)}{3} + (2(k+1)+1)^2$\n",
    "\n",
    "$\\sum_{n=0}^{k+1}(2n+1)^2 = \\dfrac{(k+1)(2\\cdot k + 1)(2\\cdot k + 3)}{3} + (2(k+1)+1)^2$"
   ]
  },
  {
   "cell_type": "code",
   "execution_count": 2,
   "metadata": {},
   "outputs": [
    {
     "data": {
      "image/png": "[encoded data removed]",
      "text/latex": [
       "$$\\frac{1}{3} \\left(k + 2\\right) \\left(2 k + 3\\right) \\left(2 k + 5\\right)$$"
      ],
      "text/plain": [
       "(k + 2)⋅(2⋅k + 3)⋅(2⋅k + 5)\n",
       "───────────────────────────\n",
       "             3             "
      ]
     },
     "execution_count": 2,
     "metadata": {},
     "output_type": "execute_result"
    }
   ],
   "source": [
    "# Showing-the-work skipping w/ proof by Python\n",
    "sp.factor(((k+1)*(2*k+1)*(2*k+3))/3 + (2*(k+1)+1)**2)"
   ]
  },
  {
   "cell_type": "markdown",
   "metadata": {},
   "source": [
    "$\\sum_{n=0}^{k+1}(2n+1)^2 = \\dfrac{((k+1)+1)(2\\cdot (k+1) + 1)(2\\cdot (k+1) + 3)}{3}$"
   ]
  },
  {
   "cell_type": "markdown",
   "metadata": {},
   "source": [
    "## 7\n",
    "### Base Case\n",
    "$3\\cdot5^0 = \\dfrac{3(5^{0+1}-1)}{4}$\n",
    "### Inductive Step\n",
    "Assume the pattern holds through k\n",
    "\n",
    "#### TO PROVE\n",
    "$\\sum_{n=0}^{k+1}3\\cdot5^n=\\dfrac{3(5^{k+2}-1)}{4}$\n",
    "\n",
    "#### INDUCTION HYPOTHESIS\n",
    "$\\sum_{n=0}^{k}3\\cdot5^n=\\dfrac{3(5^{k+1}-1)}{4}$\n",
    "\n",
    "$\\sum_{n=0}^{k}(3\\cdot5^n)+3\\cdot5^{k+1} =\\dfrac{3(5^{k+1}-1)}{4}+3\\cdot5^{k+1}$\n",
    "\n",
    "$\\sum_{n=0}^{k+1}(3\\cdot5^n)=\\dfrac{3(5^{k+1}-1)}{4}+3\\cdot5^{k+1}$"
   ]
  },
  {
   "cell_type": "code",
   "execution_count": 3,
   "metadata": {},
   "outputs": [
    {
     "data": {
      "image/png": "[encoded data removed]",
      "text/latex": [
       "$$\\frac{3}{4} \\left(25 \\cdot 5^{k} - 1\\right)$$"
      ],
      "text/plain": [
       "  ⎛    k    ⎞\n",
       "3⋅⎝25⋅5  - 1⎠\n",
       "─────────────\n",
       "      4      "
      ]
     },
     "execution_count": 3,
     "metadata": {},
     "output_type": "execute_result"
    }
   ],
   "source": [
    "# Lol SymPy factors out the 5^2\n",
    "sp.factor((3*(5**(k+1)-1))/4+3*5**(k+1))"
   ]
  },
  {
   "cell_type": "markdown",
   "metadata": {},
   "source": [
    "$\\sum_{n=0}^{k+1}3\\cdot5^n=\\dfrac{3(5^{k+2}-1)}{4}$"
   ]
  },
  {
   "cell_type": "markdown",
   "metadata": {},
   "source": [
    "## 11\n",
    "### A\n",
    "$\\dfrac{2^n-1}{2^n}$, for positive n\n",
    "### B\n",
    "#### Base Case\n",
    "$\\dfrac{1}{2} = \\dfrac{2-1}{2}$\n",
    "#### Inductive Step\n",
    "Assume the pattern holds through k\n",
    "##### TO PROVE\n",
    "$\\sum_{n=1}^{k+1}\\dfrac{1}{2^n} = \\dfrac{2^{k+1}-1}{2^{k+1}}$\n",
    "##### INDUCTION HYPOTHESIS\n",
    "$\\sum_{n=1}^{k}\\dfrac{1}{2^n} = \\dfrac{2^k-1}{2^k}$\n",
    "\n",
    "$\\sum_{n=1}^{k}\\dfrac{1}{2^n} + \\dfrac{1}{2^{k+1}}= \\dfrac{2^k-1}{2^k} + \\dfrac{1}{2^{k+1}}$\n",
    "\n",
    "$\\sum_{n=1}^{k+1}\\dfrac{1}{2^n}= \\dfrac{2^k-1}{2^k} + \\dfrac{1}{2^{k+1}}$"
   ]
  },
  {
   "cell_type": "code",
   "execution_count": 4,
   "metadata": {},
   "outputs": [
    {
     "data": {
      "image/png": "[encoded data removed]",
      "text/latex": [
       "$$1 - \\frac{2^{- k}}{2}$$"
      ],
      "text/plain": [
       "     -k\n",
       "    2  \n",
       "1 - ───\n",
       "     2 "
      ]
     },
     "execution_count": 4,
     "metadata": {},
     "output_type": "execute_result"
    }
   ],
   "source": [
    "# SymPy and I have varying opinions on what 'simplest form' means\n",
    "sp.simplify((2**k-1)/2**k + 1/2**(k+1))"
   ]
  },
  {
   "cell_type": "markdown",
   "metadata": {},
   "source": [
    "## 21\n",
    "### Base Case\n",
    "$2^5 > 5^2$; $32>25$\n",
    "\n",
    "### Inductive Step\n",
    "#### TO PROVE\n",
    "$2^{k+1} > (k+1)^2$\n",
    "#### INDUCTION HYPOTHESIS\n",
    "$2^k > k^2$\n",
    "\n",
    "$2^k \\cdot 2 > k^2 \\cdot 2$\n",
    "\n",
    "$2^{k+1} > k^2 \\cdot 2$\n",
    "\n",
    "By observing that for all $k>2$, $2(k^2) > (k+1)^2$\n",
    "\n",
    "$2^{k+1} > 2\\cdot(k^2) > (k+1)^2$\n",
    "\n",
    "And so,\n",
    "\n",
    "$2^{k+1} > (k+1)^2$"
   ]
  },
  {
   "cell_type": "code",
   "execution_count": null,
   "metadata": {},
   "outputs": [],
   "source": []
  }
 ],
 "metadata": {
  "kernelspec": {
   "display_name": "Python 3",
   "language": "python",
   "name": "python3"
  },
  "language_info": {
   "codemirror_mode": {
    "name": "ipython",
    "version": 3
   },
   "file_extension": ".py",
   "mimetype": "text/x-python",
   "name": "python",
   "nbconvert_exporter": "python",
   "pygments_lexer": "ipython3",
   "version": "3.6.4"
  }
 },
 "nbformat": 4,
 "nbformat_minor": 2
}
