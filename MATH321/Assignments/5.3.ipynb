{
 "cells": [
  {
   "cell_type": "markdown",
   "metadata": {},
   "source": [
    "# 5.3"
   ]
  },
  {
   "cell_type": "code",
   "execution_count": 1,
   "metadata": {},
   "outputs": [
    {
     "data": {
      "text/latex": [
       "$$2 k = 3 k$$"
      ],
      "text/plain": [
       "2⋅k = 3⋅k"
      ]
     },
     "execution_count": 1,
     "metadata": {},
     "output_type": "execute_result"
    }
   ],
   "source": [
    "import sympy as sp\n",
    "from sympy.abc import k\n",
    "\n",
    "sp.init_printing()\n",
    "sp.Eq(sp.Add(k,k), 3*k) #For k=0, or abnormally large instances of k"
   ]
  },
  {
   "cell_type": "markdown",
   "metadata": {},
   "source": [
    "## 3A"
   ]
  },
  {
   "cell_type": "code",
   "execution_count": 2,
   "metadata": {},
   "outputs": [
    {
     "data": {
      "text/latex": [
       "$$\\left [ \\left ( 2, \\quad 0\\right ), \\quad \\left ( 3, \\quad 4\\right ), \\quad \\left ( 4, \\quad 4\\right ), \\quad \\left ( 5, \\quad 12\\right )\\right ]$$"
      ],
      "text/plain": [
       "[(2, 0), (3, 4), (4, 4), (5, 12)]"
      ]
     },
     "execution_count": 2,
     "metadata": {},
     "output_type": "execute_result"
    }
   ],
   "source": [
    "def f(x):\n",
    "    if x == 0:\n",
    "        return -1\n",
    "    elif x == 1:\n",
    "        return 2\n",
    "    else:\n",
    "        return f(x-1) + 2*f(x-2)\n",
    "[(x,f(x)) for x in range(2, 5+1)]"
   ]
  },
  {
   "cell_type": "markdown",
   "metadata": {},
   "source": [
    "## 3C"
   ]
  },
  {
   "cell_type": "code",
   "execution_count": 3,
   "metadata": {},
   "outputs": [
    {
     "data": {
      "text/latex": [
       "$$\\left [ \\left ( 1, \\quad 2\\right ), \\quad \\left ( 2, \\quad 8\\right ), \\quad \\left ( 3, \\quad 176\\right ), \\quad \\left ( 4, \\quad 92672\\right ), \\quad \\left ( 5, \\quad 25764174848\\right )\\right ]$$"
      ],
      "text/plain": [
       "[(1, 2), (2, 8), (3, 176), (4, 92672), (5, 25764174848)]"
      ]
     },
     "execution_count": 3,
     "metadata": {},
     "output_type": "execute_result"
    }
   ],
   "source": [
    "def f(x):\n",
    "    if x == 0:\n",
    "        return -1\n",
    "    elif x == 1:\n",
    "        return 2\n",
    "    else:\n",
    "        return 3*f(x-1)**2 - 4*f(x-2)**2\n",
    "[(x, f(x)) for x in range(1, 5+1)]"
   ]
  },
  {
   "cell_type": "markdown",
   "metadata": {},
   "source": [
    "## 5A\n",
    "- $f(0) = 0$\n",
    "- $f(1) = 2\\cdot f(1-2) = 2\\cdot f(-1) = ?????$\n",
    "\n",
    "Not valid"
   ]
  },
  {
   "cell_type": "markdown",
   "metadata": {},
   "source": [
    "## 5C\n",
    "- $f(0) = 2$\n",
    "- $f(1) = 3$\n",
    "- $f(2) = 2$\n",
    "- $f(3) = 1$\n",
    "- $f(4) = 0$\n",
    "- $f(5) = -1$\n",
    "\n",
    "Valid\n",
    "\n",
    "Formula:\n",
    "$f(n) = 4 - n$"
   ]
  },
  {
   "cell_type": "markdown",
   "metadata": {},
   "source": [
    "## 7\n",
    "- A: $f(0)=0; f(n) = f(n-1)+6$\n",
    "- B: $f(0)=1;f(n)=f(n-1)+2$\n",
    "- C: $f(0)=1;f(n)=10\\cdot f(n-1)$\n",
    "- D: $f(0)=5;f(n)=f(n)=f(n-1)$"
   ]
  },
  {
   "cell_type": "markdown",
   "metadata": {},
   "source": [
    "## 9\n",
    "$F(1) = 1$\n",
    "\n",
    "$F(n) = n+F(n-1)$"
   ]
  },
  {
   "cell_type": "code",
   "execution_count": 4,
   "metadata": {},
   "outputs": [
    {
     "data": {
      "text/latex": [
       "$$\\left [ 1, \\quad 3, \\quad 6, \\quad 10, \\quad 15, \\quad 21\\right ]$$"
      ],
      "text/plain": [
       "[1, 3, 6, 10, 15, 21]"
      ]
     },
     "execution_count": 4,
     "metadata": {},
     "output_type": "execute_result"
    }
   ],
   "source": [
    "def f(n):\n",
    "    if n == 1:\n",
    "        return 1\n",
    "    else:\n",
    "        return n+f(n-1)\n",
    "\n",
    "[f(n) for n in range(1,7)]"
   ]
  },
  {
   "cell_type": "markdown",
   "metadata": {},
   "source": [
    "## 13\n",
    "Recall that the fibbonacci sequence is defined\n",
    "$$f_0 = 0$$\n",
    "$$f_1 = 1$$\n",
    "$$f_n = f_{n-1} + f_{n-2}$$\n",
    "\n",
    "$f_{2n}$ will expand to $f_{2n-1} + f_{2n-2}$\n",
    "\n",
    "Expanding $f_{2n-2}$, and repeating this until the base case will yield $f_1 + f_3 + f_5...$"
   ]
  },
  {
   "cell_type": "markdown",
   "metadata": {},
   "source": [
    "## 23\n",
    "$$f(1) = 5$$\n",
    "\n",
    "$$f(n) = 5+f(n-1)$$"
   ]
  },
  {
   "cell_type": "code",
   "execution_count": null,
   "metadata": {},
   "outputs": [],
   "source": []
  },
  {
   "cell_type": "code",
   "execution_count": null,
   "metadata": {},
   "outputs": [],
   "source": []
  }
 ],
 "metadata": {
  "kernelspec": {
   "display_name": "Python 3",
   "language": "python",
   "name": "python3"
  },
  "language_info": {
   "codemirror_mode": {
    "name": "ipython",
    "version": 3
   },
   "file_extension": ".py",
   "mimetype": "text/x-python",
   "name": "python",
   "nbconvert_exporter": "python",
   "pygments_lexer": "ipython3",
   "version": "3.6.5"
  }
 },
 "nbformat": 4,
 "nbformat_minor": 2
}
