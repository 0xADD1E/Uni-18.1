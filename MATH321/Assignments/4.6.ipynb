{
 "cells": [
  {
   "cell_type": "markdown",
   "metadata": {},
   "source": [
    "# 4.6"
   ]
  },
  {
   "cell_type": "markdown",
   "metadata": {},
   "source": [
    "## 1B"
   ]
  },
  {
   "cell_type": "code",
   "execution_count": 1,
   "metadata": {},
   "outputs": [
    {
     "data": {
      "text/plain": [
       "'QBABGCNFFTB'"
      ]
     },
     "execution_count": 1,
     "metadata": {},
     "output_type": "execute_result"
    }
   ],
   "source": [
    "def f(p):\n",
    "    n = ord(p) - ord('A')\n",
    "    n = (n + 13) % 26\n",
    "    return chr(n + ord('A'))\n",
    "\n",
    "''.join(f(p) for p in 'DONOTPASSGO')"
   ]
  },
  {
   "cell_type": "markdown",
   "metadata": {},
   "source": [
    "## 5B"
   ]
  },
  {
   "cell_type": "code",
   "execution_count": 2,
   "metadata": {},
   "outputs": [
    {
     "data": {
      "text/plain": [
       "'BEMYFRIEND'"
      ]
     },
     "execution_count": 2,
     "metadata": {},
     "output_type": "execute_result"
    }
   ],
   "source": [
    "def f(p):\n",
    "    n = ord(p) - ord('A')\n",
    "    n = (n - 10) % 26 # Encrypted with +10, so decrypt with -10\n",
    "    return chr(n + ord('A'))\n",
    "\n",
    "''.join(f(p) for p in 'LOWIPBSOXN')"
   ]
  },
  {
   "cell_type": "markdown",
   "metadata": {},
   "source": [
    "## 7"
   ]
  },
  {
   "cell_type": "code",
   "execution_count": 3,
   "metadata": {},
   "outputs": [
    {
     "name": "stdout",
     "output_type": "stream",
     "text": [
      "0: DYCVOOZZOBMRKXMODYNBOKW\n",
      "1: CXBUNNYYNALQJWLNCXMANJV\n",
      "2: BWATMMXXMZKPIVKMBWLZMIU\n",
      "3: AVZSLLWWLYJOHUJLAVKYLHT\n",
      "4: ZUYRKKVVKXINGTIKZUJXKGS\n",
      "5: YTXQJJUUJWHMFSHJYTIWJFR\n",
      "6: XSWPIITTIVGLERGIXSHVIEQ\n",
      "7: WRVOHHSSHUFKDQFHWRGUHDP\n",
      "8: VQUNGGRRGTEJCPEGVQFTGCO\n",
      "9: UPTMFFQQFSDIBODFUPESFBN\n",
      "10: TOSLEEPPERCHANCETODREAM\n",
      "11: SNRKDDOODQBGZMBDSNCQDZL\n",
      "12: RMQJCCNNCPAFYLACRMBPCYK\n",
      "13: QLPIBBMMBOZEXKZBQLAOBXJ\n",
      "14: PKOHAALLANYDWJYAPKZNAWI\n",
      "15: OJNGZZKKZMXCVIXZOJYMZVH\n",
      "16: NIMFYYJJYLWBUHWYNIXLYUG\n",
      "17: MHLEXXIIXKVATGVXMHWKXTF\n",
      "18: LGKDWWHHWJUZSFUWLGVJWSE\n",
      "19: KFJCVVGGVITYRETVKFUIVRD\n",
      "20: JEIBUUFFUHSXQDSUJETHUQC\n",
      "21: IDHATTEETGRWPCRTIDSGTPB\n",
      "22: HCGZSSDDSFQVOBQSHCRFSOA\n",
      "23: GBFYRRCCREPUNAPRGBQERNZ\n",
      "24: FAEXQQBBQDOTMZOQFAPDQMY\n",
      "25: EZDWPPAAPCNSLYNPEZOCPLX\n"
     ]
    }
   ],
   "source": [
    "def f(p, q):\n",
    "    n = ord(p) - ord('A')\n",
    "    n = (n - q) % 26\n",
    "    return chr(n + ord('A'))\n",
    "\n",
    "for i in range(26):\n",
    "    print('{}: {}'.format(i, ''.join(f(p, i) for p in 'DYCVOOZZOBMRKXMODYNBOKW')))"
   ]
  },
  {
   "cell_type": "markdown",
   "metadata": {},
   "source": [
    "i=10\n",
    "\n",
    "TO SLEEP PERCHANCE TO DREAM"
   ]
  },
  {
   "cell_type": "markdown",
   "metadata": {},
   "source": [
    "## 9"
   ]
  },
  {
   "cell_type": "code",
   "execution_count": 4,
   "metadata": {},
   "outputs": [
    {
     "name": "stdout",
     "output_type": "stream",
     "text": [
      "0: ERCWYJJMGMIRXPCEHZERGIHXIGLRSPSKCMWMRHMWXMRKYMWLEFPIJVSQQEKMG\n",
      "1: DQBVXIILFLHQWOBDGYDQFHGWHFKQRORJBLVLQGLVWLQJXLVKDEOHIURPPDJLF\n",
      "2: CPAUWHHKEKGPVNACFXCPEGFVGEJPQNQIAKUKPFKUVKPIWKUJCDNGHTQOOCIKE\n",
      "3: BOZTVGGJDJFOUMZBEWBODFEUFDIOPMPHZJTJOEJTUJOHVJTIBCMFGSPNNBHJD\n",
      "4: ANYSUFFICIENTLYADVANCEDTECHNOLOGYISINDISTINGUISHABLEFROMMAGIC\n",
      "5: ZMXRTEEHBHDMSKXZCUZMBDCSDBGMNKNFXHRHMCHRSHMFTHRGZAKDEQNLLZFHB\n",
      "6: YLWQSDDGAGCLRJWYBTYLACBRCAFLMJMEWGQGLBGQRGLESGQFYZJCDPMKKYEGA\n",
      "7: XKVPRCCFZFBKQIVXASXKZBAQBZEKLILDVFPFKAFPQFKDRFPEXYIBCOLJJXDFZ\n",
      "8: WJUOQBBEYEAJPHUWZRWJYAZPAYDJKHKCUEOEJZEOPEJCQEODWXHABNKIIWCEY\n",
      "9: VITNPAADXDZIOGTVYQVIXZYOZXCIJGJBTDNDIYDNODIBPDNCVWGZAMJHHVBDX\n",
      "10: UHSMOZZCWCYHNFSUXPUHWYXNYWBHIFIASCMCHXCMNCHAOCMBUVFYZLIGGUACW\n",
      "11: TGRLNYYBVBXGMERTWOTGVXWMXVAGHEHZRBLBGWBLMBGZNBLATUEXYKHFFTZBV\n",
      "12: SFQKMXXAUAWFLDQSVNSFUWVLWUZFGDGYQAKAFVAKLAFYMAKZSTDWXJGEESYAU\n",
      "13: REPJLWWZTZVEKCPRUMRETVUKVTYEFCFXPZJZEUZJKZEXLZJYRSCVWIFDDRXZT\n",
      "14: QDOIKVVYSYUDJBOQTLQDSUTJUSXDEBEWOYIYDTYIJYDWKYIXQRBUVHECCQWYS\n",
      "15: PCNHJUUXRXTCIANPSKPCRTSITRWCDADVNXHXCSXHIXCVJXHWPQATUGDBBPVXR\n",
      "16: OBMGITTWQWSBHZMORJOBQSRHSQVBCZCUMWGWBRWGHWBUIWGVOPZSTFCAAOUWQ\n",
      "17: NALFHSSVPVRAGYLNQINAPRQGRPUABYBTLVFVAQVFGVATHVFUNOYRSEBZZNTVP\n",
      "18: MZKEGRRUOUQZFXKMPHMZOQPFQOTZAXASKUEUZPUEFUZSGUETMNXQRDAYYMSUO\n",
      "19: LYJDFQQTNTPYEWJLOGLYNPOEPNSYZWZRJTDTYOTDETYRFTDSLMWPQCZXXLRTN\n",
      "20: KXICEPPSMSOXDVIKNFKXMONDOMRXYVYQISCSXNSCDSXQESCRKLVOPBYWWKQSM\n",
      "21: JWHBDOORLRNWCUHJMEJWLNMCNLQWXUXPHRBRWMRBCRWPDRBQJKUNOAXVVJPRL\n",
      "22: IVGACNNQKQMVBTGILDIVKMLBMKPVWTWOGQAQVLQABQVOCQAPIJTMNZWUUIOQK\n",
      "23: HUFZBMMPJPLUASFHKCHUJLKALJOUVSVNFPZPUKPZAPUNBPZOHISLMYVTTHNPJ\n",
      "24: GTEYALLOIOKTZREGJBGTIKJZKINTURUMEOYOTJOYZOTMAOYNGHRKLXUSSGMOI\n",
      "25: FSDXZKKNHNJSYQDFIAFSHJIYJHMSTQTLDNXNSINXYNSLZNXMFGQJKWTRRFLNH\n"
     ]
    }
   ],
   "source": [
    "def f(p, q):\n",
    "    n = ord(p) - ord('A')\n",
    "    n = (n - q) % 26\n",
    "    return chr(n + ord('A'))\n",
    "\n",
    "for i in range(26):\n",
    "    print('{}: {}'.format(i, ''.join(f(p, i) for p in 'ERCWYJJMGMIRXPCEHZERGIHXIGLRSPSKCMWMRHMWXMRKYMWLEFPIJVSQQEKMG')))"
   ]
  },
  {
   "cell_type": "markdown",
   "metadata": {},
   "source": [
    "i=4\n",
    "\n",
    "ANY SUFFICIENTLY ADVANCED TECHNOLOGY IS INDISTINGUISHABLE FROM MAGIC"
   ]
  },
  {
   "cell_type": "markdown",
   "metadata": {},
   "source": [
    "## 15"
   ]
  },
  {
   "cell_type": "code",
   "execution_count": 5,
   "metadata": {},
   "outputs": [
    {
     "data": {
      "text/plain": [
       "['EABW', 'EFRO', 'ATMR', 'ASIN']"
      ]
     },
     "execution_count": 5,
     "metadata": {},
     "output_type": "execute_result"
    }
   ],
   "source": [
    "ciphertext = 'EABWEFROATMRASIN'\n",
    "# Create groups\n",
    "[ciphertext[i:i+4] for i in range(0, len(ciphertext), 4)]"
   ]
  },
  {
   "cell_type": "code",
   "execution_count": 6,
   "metadata": {},
   "outputs": [
    {
     "data": {
      "text/plain": [
       "[['B', 'E', 'W', 'A'],\n",
       " ['R', 'E', 'O', 'F'],\n",
       " ['M', 'A', 'R', 'T'],\n",
       " ['I', 'A', 'N', 'S']]"
      ]
     },
     "execution_count": 6,
     "metadata": {},
     "output_type": "execute_result"
    }
   ],
   "source": [
    "# Perform Shuffle\n",
    "[[x[3-1], x[1-1], x[4-1], x[2-1]] for x in Out[5]]"
   ]
  },
  {
   "cell_type": "code",
   "execution_count": 7,
   "metadata": {},
   "outputs": [
    {
     "data": {
      "text/plain": [
       "'BEWAREOFMARTIANS'"
      ]
     },
     "execution_count": 7,
     "metadata": {},
     "output_type": "execute_result"
    }
   ],
   "source": [
    "# And get plaintext string\n",
    "''.join([''.join(x) for x in Out[6]])"
   ]
  },
  {
   "cell_type": "markdown",
   "metadata": {},
   "source": [
    "## 25"
   ]
  },
  {
   "cell_type": "code",
   "execution_count": 8,
   "metadata": {},
   "outputs": [
    {
     "data": {
      "text/plain": [
       "[20, 15, 11, 14, 0, 3]"
      ]
     },
     "execution_count": 8,
     "metadata": {},
     "output_type": "execute_result"
    }
   ],
   "source": [
    "# Get numeric representations\n",
    "[ord(x)-ord('A') for x in 'UPLOAD']"
   ]
  },
  {
   "cell_type": "code",
   "execution_count": 9,
   "metadata": {},
   "outputs": [
    {
     "data": {
      "text/plain": [
       "[2015, 1114, 3]"
      ]
     },
     "execution_count": 9,
     "metadata": {},
     "output_type": "execute_result"
    }
   ],
   "source": [
    "# Get groupings\n",
    "groups = [Out[8][i:i+2] for i in range(0, len(Out[8]), 2)]\n",
    "# ...and make them into real numbers instead of arrays...\n",
    "[int(str(x[0])+str(x[1])) for x in groups]"
   ]
  },
  {
   "cell_type": "code",
   "execution_count": 10,
   "metadata": {},
   "outputs": [
    {
     "data": {
      "text/plain": [
       "[2545, 2757, 1211]"
      ]
     },
     "execution_count": 10,
     "metadata": {},
     "output_type": "execute_result"
    }
   ],
   "source": [
    "# And actually perform the RSA\n",
    "[pow(x, 17, 53*61) for x in Out[9]]"
   ]
  },
  {
   "cell_type": "code",
   "execution_count": null,
   "metadata": {},
   "outputs": [],
   "source": []
  }
 ],
 "metadata": {
  "kernelspec": {
   "display_name": "Python 3",
   "language": "python",
   "name": "python3"
  },
  "language_info": {
   "codemirror_mode": {
    "name": "ipython",
    "version": 3
   },
   "file_extension": ".py",
   "mimetype": "text/x-python",
   "name": "python",
   "nbconvert_exporter": "python",
   "pygments_lexer": "ipython3",
   "version": "3.6.4"
  }
 },
 "nbformat": 4,
 "nbformat_minor": 2
}
